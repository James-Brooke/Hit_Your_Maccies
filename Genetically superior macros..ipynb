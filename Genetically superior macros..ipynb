{
 "cells": [
  {
   "cell_type": "markdown",
   "metadata": {},
   "source": [
    "## Genetic attempt"
   ]
  },
  {
   "cell_type": "code",
   "execution_count": 1,
   "metadata": {
    "collapsed": true
   },
   "outputs": [],
   "source": [
    "import random\n",
    "import operator"
   ]
  },
  {
   "cell_type": "markdown",
   "metadata": {},
   "source": [
    "### Fitness Function"
   ]
  },
  {
   "cell_type": "markdown",
   "metadata": {},
   "source": [
    "#### Currently using 4 items in optimisation\n",
    "- DoubleCheese - carbs 36 fat 23 protein 26\n",
    "- 6 Nuggets - carbs 18 fat 13 protein 16\n",
    "- Big Mac - carbs 43 fat 25 protein 26\n",
    "- triple cheese - carbs 35, fat 28, pro 32"
   ]
  },
  {
   "cell_type": "code",
   "execution_count": 2,
   "metadata": {
    "collapsed": true
   },
   "outputs": [],
   "source": [
    "tarNut = [300, 80, 160]\n",
    "# Target refers to target Carbs, Fats Proteins"
   ]
  },
  {
   "cell_type": "code",
   "execution_count": 3,
   "metadata": {
    "collapsed": true
   },
   "outputs": [],
   "source": [
    "def fitness(gene, target):\n",
    "    score = ((target[0] - 36*gene[0] - 16*gene[1] - 43*gene[2] - 36*gene[3])**2 +\n",
    "             (target[1] - 23*gene[0] - 13*gene[1] - 25*gene[2]- 28*gene[3])**2 +\n",
    "             (target[2] - 26*gene[0] - 16*gene[1] - 26*gene[2]- 32*gene[3])**2)\n",
    "    return score"
   ]
  },
  {
   "cell_type": "code",
   "execution_count": 4,
   "metadata": {
    "collapsed": true
   },
   "outputs": [],
   "source": [
    "solution = [6,0,0,0]\n",
    "\n"
   ]
  },
  {
   "cell_type": "code",
   "execution_count": 5,
   "metadata": {},
   "outputs": [
    {
     "name": "stdout",
     "output_type": "stream",
     "text": [
      "10436\n"
     ]
    }
   ],
   "source": [
    "print(fitness(solution, tarNut))"
   ]
  },
  {
   "cell_type": "markdown",
   "metadata": {},
   "source": [
    "## Population generation"
   ]
  },
  {
   "cell_type": "code",
   "execution_count": 6,
   "metadata": {
    "collapsed": true
   },
   "outputs": [],
   "source": [
    "def generateChild():\n",
    "    gene = []\n",
    "    for i in range(4):\n",
    "        chrom = random.randint(0,5)\n",
    "        gene.append(chrom)\n",
    "    return gene"
   ]
  },
  {
   "cell_type": "code",
   "execution_count": 7,
   "metadata": {
    "collapsed": true
   },
   "outputs": [],
   "source": [
    "def generatePop(popSize):\n",
    "    population = []\n",
    "    i = 0\n",
    "    while i < popSize:\n",
    "        population.append(generateChild())\n",
    "        i+=1\n",
    "    #population.pop(len(population))\n",
    "    print(population)\n",
    "    return population"
   ]
  },
  {
   "cell_type": "code",
   "execution_count": 8,
   "metadata": {},
   "outputs": [
    {
     "name": "stdout",
     "output_type": "stream",
     "text": [
      "[[2, 5, 2, 5], [5, 5, 0, 3], [3, 1, 3, 4], [0, 0, 0, 5], [4, 2, 5, 4], [2, 1, 5, 0], [0, 0, 3, 1], [0, 4, 0, 1], [0, 4, 2, 4], [0, 3, 0, 4], [1, 1, 3, 1], [0, 0, 3, 1], [0, 2, 0, 1], [3, 1, 2, 5], [5, 1, 2, 2], [1, 3, 1, 5], [0, 1, 4, 1], [5, 2, 4, 1], [5, 5, 3, 2], [3, 2, 2, 2], [1, 0, 1, 1], [1, 0, 4, 1], [1, 0, 4, 2], [3, 1, 1, 5], [2, 2, 1, 5], [3, 0, 3, 5], [4, 5, 4, 3], [4, 3, 0, 1], [2, 3, 0, 1], [3, 4, 5, 1], [0, 0, 2, 1], [2, 1, 5, 3], [2, 1, 4, 0], [1, 0, 0, 5], [1, 1, 1, 0], [5, 2, 2, 1], [2, 2, 1, 3], [2, 4, 2, 3], [0, 0, 0, 5], [1, 0, 0, 4], [5, 0, 4, 2], [1, 2, 3, 1], [5, 4, 4, 3], [3, 1, 3, 4], [5, 5, 2, 5], [4, 0, 5, 0], [3, 0, 5, 3], [5, 3, 3, 3], [4, 0, 4, 3], [5, 2, 2, 3], [0, 2, 5, 2], [1, 5, 2, 1], [2, 2, 2, 5], [3, 4, 3, 5], [5, 1, 4, 4], [2, 4, 4, 4], [3, 2, 2, 5], [1, 0, 0, 0], [5, 5, 2, 1], [1, 3, 5, 4], [0, 1, 0, 2], [4, 3, 5, 1], [4, 4, 3, 3], [3, 5, 2, 4], [5, 4, 1, 3], [1, 3, 4, 4], [1, 0, 3, 5], [1, 2, 1, 0], [5, 3, 5, 2], [1, 0, 3, 3], [5, 2, 0, 5], [1, 0, 0, 0], [3, 4, 3, 2], [3, 4, 3, 2], [3, 1, 3, 3], [0, 4, 5, 2], [5, 3, 5, 2], [4, 5, 5, 2], [4, 4, 1, 4], [4, 4, 5, 0], [4, 2, 4, 4], [2, 4, 0, 0], [2, 2, 1, 5], [0, 1, 2, 3], [1, 1, 5, 1], [0, 4, 2, 3], [5, 0, 4, 3], [3, 1, 0, 2], [1, 0, 1, 3], [4, 1, 1, 3], [3, 2, 2, 0], [1, 3, 5, 2], [0, 5, 5, 3], [1, 1, 2, 4], [5, 2, 5, 5], [5, 2, 5, 1], [5, 3, 0, 2], [0, 1, 3, 0], [3, 2, 0, 1], [2, 0, 2, 2]]\n"
     ]
    }
   ],
   "source": [
    "population = generatePop(100)"
   ]
  },
  {
   "cell_type": "markdown",
   "metadata": {},
   "source": [
    "Assesing performance of each "
   ]
  },
  {
   "cell_type": "markdown",
   "metadata": {},
   "source": [
    "## Calculating performance of genes"
   ]
  },
  {
   "cell_type": "code",
   "execution_count": 9,
   "metadata": {
    "collapsed": true
   },
   "outputs": [],
   "source": [
    "def computePerfPopulation(pop):\n",
    "    populationPerf = {}\n",
    "    for gene in population:\n",
    "        gName = str(gene)\n",
    "        populationPerf[gName] = fitness(gene, tarNut)\n",
    "    return sorted(populationPerf.items(), key = operator.itemgetter(1), reverse = False)\n"
   ]
  },
  {
   "cell_type": "code",
   "execution_count": 10,
   "metadata": {
    "collapsed": true
   },
   "outputs": [],
   "source": [
    "sortedpop = computePerfPopulation(population)"
   ]
  },
  {
   "cell_type": "code",
   "execution_count": 11,
   "metadata": {
    "scrolled": true
   },
   "outputs": [
    {
     "data": {
      "text/plain": [
       "[('[2, 1, 4, 0]', 7985),\n",
       " ('[1, 0, 4, 1]', 8181),\n",
       " ('[0, 1, 4, 1]', 9561),\n",
       " ('[3, 2, 2, 0]', 9705),\n",
       " ('[1, 2, 3, 1]', 9737),\n",
       " ('[2, 0, 2, 2]', 10148),\n",
       " ('[1, 1, 3, 1]', 10434),\n",
       " ('[1, 0, 4, 2]', 11357),\n",
       " ('[4, 3, 0, 1]', 12001),\n",
       " ('[1, 5, 2, 1]', 12140),\n",
       " ('[2, 1, 5, 0]', 12269),\n",
       " ('[0, 1, 2, 3]', 12605),\n",
       " ('[1, 0, 3, 3]', 12733),\n",
       " ('[1, 1, 5, 1]', 13826),\n",
       " ('[3, 1, 0, 2]', 14184),\n",
       " ('[2, 2, 1, 3]', 14342),\n",
       " ('[1, 0, 0, 5]', 14621),\n",
       " ('[1, 0, 1, 3]', 15617),\n",
       " ('[0, 4, 2, 3]', 15704),\n",
       " ('[0, 3, 0, 4]', 16961),\n",
       " ('[1, 0, 0, 4]', 17461),\n",
       " ('[3, 2, 0, 1]', 17549),\n",
       " ('[0, 0, 0, 5]', 18000),\n",
       " ('[1, 1, 2, 4]', 18092),\n",
       " ('[3, 2, 2, 2]', 19001),\n",
       " ('[0, 2, 5, 2]', 20846),\n",
       " ('[0, 0, 3, 1]', 21254),\n",
       " ('[2, 3, 0, 1]', 22609),\n",
       " ('[5, 3, 0, 2]', 23624),\n",
       " ('[4, 1, 1, 3]', 24801),\n",
       " ('[0, 4, 2, 4]', 25048),\n",
       " ('[4, 0, 5, 0]', 27726),\n",
       " ('[5, 2, 2, 1]', 27873),\n",
       " ('[0, 1, 3, 0]', 28445),\n",
       " ('[2, 4, 0, 0]', 29156),\n",
       " ('[1, 3, 1, 5]', 31658),\n",
       " ('[2, 4, 2, 3]', 34820),\n",
       " ('[0, 4, 5, 2]', 35614),\n",
       " ('[5, 1, 2, 2]', 37036),\n",
       " ('[0, 0, 2, 1]', 37464),\n",
       " ('[2, 2, 1, 5]', 37478),\n",
       " ('[1, 0, 3, 5]', 37805),\n",
       " ('[1, 0, 1, 1]', 40017),\n",
       " ('[3, 1, 3, 3]', 41306),\n",
       " ('[1, 2, 1, 0]', 41533),\n",
       " ('[1, 3, 5, 2]', 43274),\n",
       " ('[0, 4, 0, 1]', 44096),\n",
       " ('[3, 1, 1, 5]', 44498),\n",
       " ('[3, 4, 3, 2]', 50289),\n",
       " ('[1, 1, 1, 0]', 50850),\n",
       " ('[0, 1, 0, 2]', 51465),\n",
       " ('[5, 5, 2, 1]', 56364),\n",
       " ('[2, 2, 2, 5]', 56520),\n",
       " ('[5, 5, 0, 3]', 59796),\n",
       " ('[0, 2, 0, 1]', 63716),\n",
       " ('[3, 1, 3, 4]', 64730),\n",
       " ('[2, 1, 5, 3]', 65621),\n",
       " ('[3, 1, 2, 5]', 66280),\n",
       " ('[1, 3, 4, 4]', 68952),\n",
       " ('[5, 2, 4, 1]', 69165),\n",
       " ('[0, 5, 5, 3]', 69561),\n",
       " ('[4, 4, 5, 0]', 69894),\n",
       " ('[5, 0, 4, 2]', 70901),\n",
       " ('[5, 2, 2, 3]', 71761),\n",
       " ('[5, 4, 1, 3]', 71777),\n",
       " ('[3, 4, 5, 1]', 73501),\n",
       " ('[4, 0, 4, 3]', 74528),\n",
       " ('[5, 2, 0, 5]', 75109),\n",
       " ('[4, 4, 1, 4]', 75670),\n",
       " ('[3, 0, 5, 3]', 77101),\n",
       " ('[3, 2, 2, 5]', 79505),\n",
       " ('[3, 0, 3, 5]', 79641),\n",
       " ('[4, 3, 5, 1]', 85781),\n",
       " ('[1, 0, 0, 0]', 90901),\n",
       " ('[3, 5, 2, 4]', 92264),\n",
       " ('[2, 5, 2, 5]', 96621),\n",
       " ('[1, 3, 5, 4]', 97994),\n",
       " ('[5, 2, 5, 1]', 99261),\n",
       " ('[5, 0, 4, 3]', 102461),\n",
       " ('[4, 4, 3, 3]', 103878),\n",
       " ('[2, 4, 4, 4]', 111348),\n",
       " ('[5, 5, 3, 2]', 116146),\n",
       " ('[5, 3, 3, 3]', 118378),\n",
       " ('[4, 2, 4, 4]', 142628),\n",
       " ('[3, 4, 3, 5]', 146697),\n",
       " ('[5, 3, 5, 2]', 156194),\n",
       " ('[4, 5, 5, 2]', 158609),\n",
       " ('[4, 5, 4, 3]', 159913),\n",
       " ('[5, 1, 4, 4]', 160068),\n",
       " ('[5, 4, 4, 3]', 178373),\n",
       " ('[4, 2, 5, 4]', 185606),\n",
       " ('[5, 5, 2, 5]', 203820),\n",
       " ('[5, 2, 5, 5]', 285789)]"
      ]
     },
     "execution_count": 11,
     "metadata": {},
     "output_type": "execute_result"
    }
   ],
   "source": [
    "sortedpop"
   ]
  },
  {
   "cell_type": "markdown",
   "metadata": {},
   "source": [
    "### Selecting population to breed"
   ]
  },
  {
   "cell_type": "code",
   "execution_count": 53,
   "metadata": {
    "collapsed": true
   },
   "outputs": [],
   "source": [
    "def selectFromPopulation(sPop, best_sample, lucky_few):\n",
    "    nextGeneration = []    \n",
    "    for i in range(best_sample):\n",
    "        nextGeneration.append(sPop[i][0])\n",
    "    for i in range(lucky_few):\n",
    "        nextGeneration.append(random.choice(sPop)[0])\n",
    "        random.shuffle(nextGeneration)\n",
    "    return nextGeneration"
   ]
  },
  {
   "cell_type": "code",
   "execution_count": 54,
   "metadata": {},
   "outputs": [],
   "source": [
    "secondGen = selectFromPopulation(sortedpop, 25, 25)"
   ]
  },
  {
   "cell_type": "code",
   "execution_count": 55,
   "metadata": {
    "scrolled": true
   },
   "outputs": [
    {
     "data": {
      "text/plain": [
       "['[1, 0, 0, 4]',\n",
       " '[1, 0, 4, 2]',\n",
       " '[4, 4, 1, 4]',\n",
       " '[3, 2, 2, 0]',\n",
       " '[1, 0, 0, 5]',\n",
       " '[4, 2, 5, 4]',\n",
       " '[1, 1, 3, 1]',\n",
       " '[5, 3, 0, 2]',\n",
       " '[0, 1, 4, 1]',\n",
       " '[1, 0, 1, 3]',\n",
       " '[5, 2, 0, 5]',\n",
       " '[1, 0, 4, 2]',\n",
       " '[3, 4, 3, 2]',\n",
       " '[3, 2, 0, 1]',\n",
       " '[1, 5, 2, 1]',\n",
       " '[5, 4, 4, 3]',\n",
       " '[1, 0, 4, 1]',\n",
       " '[5, 2, 2, 1]',\n",
       " '[0, 1, 4, 1]',\n",
       " '[0, 4, 2, 3]',\n",
       " '[2, 5, 2, 5]',\n",
       " '[1, 3, 1, 5]',\n",
       " '[2, 2, 1, 3]',\n",
       " '[5, 3, 3, 3]',\n",
       " '[1, 2, 3, 1]',\n",
       " '[1, 1, 2, 4]',\n",
       " '[0, 3, 0, 4]',\n",
       " '[0, 0, 0, 5]',\n",
       " '[2, 2, 1, 3]',\n",
       " '[0, 0, 0, 5]',\n",
       " '[5, 1, 4, 4]',\n",
       " '[5, 4, 4, 3]',\n",
       " '[1, 0, 3, 3]',\n",
       " '[2, 0, 2, 2]',\n",
       " '[4, 5, 5, 2]',\n",
       " '[4, 0, 4, 3]',\n",
       " '[1, 0, 0, 5]',\n",
       " '[1, 5, 2, 1]',\n",
       " '[5, 3, 5, 2]',\n",
       " '[2, 1, 5, 0]',\n",
       " '[3, 2, 2, 2]',\n",
       " '[2, 1, 4, 0]',\n",
       " '[5, 1, 2, 2]',\n",
       " '[0, 1, 2, 3]',\n",
       " '[4, 3, 0, 1]',\n",
       " '[4, 5, 4, 3]',\n",
       " '[3, 2, 0, 1]',\n",
       " '[5, 3, 3, 3]',\n",
       " '[3, 1, 0, 2]',\n",
       " '[1, 1, 5, 1]']"
      ]
     },
     "execution_count": 55,
     "metadata": {},
     "output_type": "execute_result"
    }
   ],
   "source": [
    "secondGen"
   ]
  },
  {
   "cell_type": "code",
   "execution_count": 43,
   "metadata": {},
   "outputs": [
    {
     "data": {
      "text/plain": [
       "str"
      ]
     },
     "execution_count": 43,
     "metadata": {},
     "output_type": "execute_result"
    }
   ],
   "source": [
    "type(secondGen[1])"
   ]
  },
  {
   "cell_type": "code",
   "execution_count": 56,
   "metadata": {
    "collapsed": true
   },
   "outputs": [],
   "source": [
    "def destring(sortedpop):\n",
    "    i = 0\n",
    "    for i in range(len(sortedpop)):\n",
    "        \n",
    "        sortedpop[i] = list(sortedpop[i])\n",
    "        i += 1\n",
    "    return sortedpop"
   ]
  },
  {
   "cell_type": "code",
   "execution_count": null,
   "metadata": {
    "collapsed": true
   },
   "outputs": [],
   "source": [
    "secondString = destring(secondGen)\n",
    "print(secondString)"
   ]
  },
  {
   "cell_type": "code",
   "execution_count": 57,
   "metadata": {},
   "outputs": [],
   "source": [
    "def betterDestring(sortedpop):\n",
    "    i = 0\n",
    "    for i in range(len(sortedpop)):\n",
    "        sortedpop[i] = sortedpop[i].replace(\"[\", \"\")\n",
    "        sortedpop[i] = sortedpop[i].replace(\"]\", \"\")\n",
    "        sortedpop[i] = sortedpop[i].split(\",\")\n",
    "        sortedpop[i] = list(map(int, sortedpop[i]))\n",
    "        i += 1\n",
    "\n",
    "    return sortedpop"
   ]
  },
  {
   "cell_type": "code",
   "execution_count": 58,
   "metadata": {
    "scrolled": true
   },
   "outputs": [
    {
     "data": {
      "text/plain": [
       "[[1, 0, 0, 4],\n",
       " [1, 0, 4, 2],\n",
       " [4, 4, 1, 4],\n",
       " [3, 2, 2, 0],\n",
       " [1, 0, 0, 5],\n",
       " [4, 2, 5, 4],\n",
       " [1, 1, 3, 1],\n",
       " [5, 3, 0, 2],\n",
       " [0, 1, 4, 1],\n",
       " [1, 0, 1, 3],\n",
       " [5, 2, 0, 5],\n",
       " [1, 0, 4, 2],\n",
       " [3, 4, 3, 2],\n",
       " [3, 2, 0, 1],\n",
       " [1, 5, 2, 1],\n",
       " [5, 4, 4, 3],\n",
       " [1, 0, 4, 1],\n",
       " [5, 2, 2, 1],\n",
       " [0, 1, 4, 1],\n",
       " [0, 4, 2, 3],\n",
       " [2, 5, 2, 5],\n",
       " [1, 3, 1, 5],\n",
       " [2, 2, 1, 3],\n",
       " [5, 3, 3, 3],\n",
       " [1, 2, 3, 1],\n",
       " [1, 1, 2, 4],\n",
       " [0, 3, 0, 4],\n",
       " [0, 0, 0, 5],\n",
       " [2, 2, 1, 3],\n",
       " [0, 0, 0, 5],\n",
       " [5, 1, 4, 4],\n",
       " [5, 4, 4, 3],\n",
       " [1, 0, 3, 3],\n",
       " [2, 0, 2, 2],\n",
       " [4, 5, 5, 2],\n",
       " [4, 0, 4, 3],\n",
       " [1, 0, 0, 5],\n",
       " [1, 5, 2, 1],\n",
       " [5, 3, 5, 2],\n",
       " [2, 1, 5, 0],\n",
       " [3, 2, 2, 2],\n",
       " [2, 1, 4, 0],\n",
       " [5, 1, 2, 2],\n",
       " [0, 1, 2, 3],\n",
       " [4, 3, 0, 1],\n",
       " [4, 5, 4, 3],\n",
       " [3, 2, 0, 1],\n",
       " [5, 3, 3, 3],\n",
       " [3, 1, 0, 2],\n",
       " [1, 1, 5, 1]]"
      ]
     },
     "execution_count": 58,
     "metadata": {},
     "output_type": "execute_result"
    }
   ],
   "source": [
    "betterDestring(secondGen)"
   ]
  },
  {
   "cell_type": "code",
   "execution_count": 65,
   "metadata": {
    "scrolled": true
   },
   "outputs": [
    {
     "data": {
      "text/plain": [
       "[[1, 0, 0, 4],\n",
       " [1, 0, 4, 2],\n",
       " [4, 4, 1, 4],\n",
       " [3, 2, 2, 0],\n",
       " [1, 0, 0, 5],\n",
       " [4, 2, 5, 4],\n",
       " [1, 1, 3, 1],\n",
       " [5, 3, 0, 2],\n",
       " [0, 1, 4, 1],\n",
       " [1, 0, 1, 3],\n",
       " [5, 2, 0, 5],\n",
       " [1, 0, 4, 2],\n",
       " [3, 4, 3, 2],\n",
       " [3, 2, 0, 1],\n",
       " [1, 5, 2, 1],\n",
       " [5, 4, 4, 3],\n",
       " [1, 0, 4, 1],\n",
       " [5, 2, 2, 1],\n",
       " [0, 1, 4, 1],\n",
       " [0, 4, 2, 3],\n",
       " [2, 5, 2, 5],\n",
       " [1, 3, 1, 5],\n",
       " [2, 2, 1, 3],\n",
       " [5, 3, 3, 3],\n",
       " [1, 2, 3, 1],\n",
       " [1, 1, 2, 4],\n",
       " [0, 3, 0, 4],\n",
       " [0, 0, 0, 5],\n",
       " [2, 2, 1, 3],\n",
       " [0, 0, 0, 5],\n",
       " [5, 1, 4, 4],\n",
       " [5, 4, 4, 3],\n",
       " [1, 0, 3, 3],\n",
       " [2, 0, 2, 2],\n",
       " [4, 5, 5, 2],\n",
       " [4, 0, 4, 3],\n",
       " [1, 0, 0, 5],\n",
       " [1, 5, 2, 1],\n",
       " [5, 3, 5, 2],\n",
       " [2, 1, 5, 0],\n",
       " [3, 2, 2, 2],\n",
       " [2, 1, 4, 0],\n",
       " [5, 1, 2, 2],\n",
       " [0, 1, 2, 3],\n",
       " [4, 3, 0, 1],\n",
       " [4, 5, 4, 3],\n",
       " [3, 2, 0, 1],\n",
       " [5, 3, 3, 3],\n",
       " [3, 1, 0, 2],\n",
       " [1, 1, 5, 1]]"
      ]
     },
     "execution_count": 65,
     "metadata": {},
     "output_type": "execute_result"
    }
   ],
   "source": [
    "secondGen"
   ]
  },
  {
   "cell_type": "markdown",
   "metadata": {},
   "source": [
    "### Breeding"
   ]
  },
  {
   "cell_type": "code",
   "execution_count": 66,
   "metadata": {
    "collapsed": true
   },
   "outputs": [],
   "source": [
    "import random\n",
    "\n",
    "def createChild(parent1, parent2):\n",
    "    child = []\n",
    "    for i in range(len(parent1)):\n",
    "        if(int(100*random.random()) < 50):\n",
    "            child.append(parent1[i])\n",
    "        else:\n",
    "            child.append(parent2[i])\n",
    "    return child"
   ]
  },
  {
   "cell_type": "code",
   "execution_count": null,
   "metadata": {
    "collapsed": true
   },
   "outputs": [],
   "source": []
  },
  {
   "cell_type": "code",
   "execution_count": 67,
   "metadata": {
    "collapsed": true
   },
   "outputs": [],
   "source": [
    "def createChildren(breeders, number_of_child):\n",
    "    nextPopulation = []\n",
    "    for i in range(int(len(breeders)/2)):\n",
    "        for j in range(number_of_child):\n",
    "            nextPopulation.append(createChild(breeders[i],breeders[len(breeders) -1 -i]))\n",
    "    return nextPopulation"
   ]
  },
  {
   "cell_type": "code",
   "execution_count": 69,
   "metadata": {
    "scrolled": true
   },
   "outputs": [
    {
     "data": {
      "text/plain": [
       "[[1, 1, 0, 4],\n",
       " [1, 0, 5, 1],\n",
       " [3, 1, 0, 2],\n",
       " [1, 1, 4, 2],\n",
       " [5, 3, 1, 3],\n",
       " [5, 4, 1, 4],\n",
       " [3, 2, 2, 1],\n",
       " [3, 2, 0, 0],\n",
       " [4, 0, 0, 5],\n",
       " [1, 0, 0, 5],\n",
       " [4, 3, 0, 1],\n",
       " [4, 2, 0, 1],\n",
       " [1, 1, 2, 1],\n",
       " [0, 1, 3, 1],\n",
       " [5, 3, 0, 2],\n",
       " [5, 1, 0, 2],\n",
       " [0, 1, 4, 0],\n",
       " [0, 1, 4, 1],\n",
       " [1, 0, 2, 3],\n",
       " [3, 2, 1, 3],\n",
       " [5, 1, 5, 5],\n",
       " [5, 1, 0, 0],\n",
       " [5, 3, 4, 2],\n",
       " [5, 3, 4, 2],\n",
       " [3, 5, 3, 2],\n",
       " [1, 5, 3, 2],\n",
       " [1, 2, 0, 1],\n",
       " [3, 0, 0, 5],\n",
       " [1, 0, 2, 1],\n",
       " [1, 5, 4, 3],\n",
       " [4, 4, 5, 3],\n",
       " [5, 5, 4, 2],\n",
       " [1, 0, 4, 2],\n",
       " [1, 0, 2, 2],\n",
       " [5, 0, 3, 3],\n",
       " [5, 0, 2, 1],\n",
       " [0, 4, 4, 3],\n",
       " [5, 1, 4, 3],\n",
       " [5, 1, 4, 4],\n",
       " [5, 4, 4, 4],\n",
       " [0, 0, 2, 5],\n",
       " [0, 0, 0, 5],\n",
       " [1, 3, 1, 5],\n",
       " [1, 3, 1, 3],\n",
       " [0, 0, 1, 5],\n",
       " [2, 2, 0, 5],\n",
       " [0, 3, 3, 4],\n",
       " [5, 3, 3, 3],\n",
       " [1, 1, 2, 1],\n",
       " [1, 1, 3, 4]]"
      ]
     },
     "execution_count": 69,
     "metadata": {},
     "output_type": "execute_result"
    }
   ],
   "source": [
    "createChildren(secondGen, 2)"
   ]
  },
  {
   "cell_type": "markdown",
   "metadata": {},
   "source": [
    "### Mutation"
   ]
  },
  {
   "cell_type": "code",
   "execution_count": null,
   "metadata": {
    "collapsed": true
   },
   "outputs": [],
   "source": [
    "def mutate(gene):\n",
    "    "
   ]
  }
 ],
 "metadata": {
  "kernelspec": {
   "display_name": "Python 3",
   "language": "python",
   "name": "python3"
  },
  "language_info": {
   "codemirror_mode": {
    "name": "ipython",
    "version": 3
   },
   "file_extension": ".py",
   "mimetype": "text/x-python",
   "name": "python",
   "nbconvert_exporter": "python",
   "pygments_lexer": "ipython3",
   "version": "3.6.3"
  }
 },
 "nbformat": 4,
 "nbformat_minor": 2
}
