{
 "cells": [
  {
   "cell_type": "markdown",
   "metadata": {},
   "source": [
    "## Genetic attempt"
   ]
  },
  {
   "cell_type": "code",
   "execution_count": 38,
   "metadata": {
    "collapsed": true
   },
   "outputs": [],
   "source": [
    "import random\n",
    "import operator"
   ]
  },
  {
   "cell_type": "markdown",
   "metadata": {},
   "source": [
    "### Fitness Function"
   ]
  },
  {
   "cell_type": "markdown",
   "metadata": {},
   "source": [
    "Currently using 3 items in optimisation\n",
    "DoubleCheese - carbs 36 fat 23 protein 26\n",
    "6 Nuggets - carbs 18 fat 13 protein 16\n",
    "Big Mac - carbs 43 fat 25 protein 26"
   ]
  },
  {
   "cell_type": "code",
   "execution_count": 4,
   "metadata": {
    "collapsed": true
   },
   "outputs": [],
   "source": [
    "tarNut = [300, 80, 160]\n",
    "# Target refers to target Carbs, Fats Proteins"
   ]
  },
  {
   "cell_type": "code",
   "execution_count": 11,
   "metadata": {},
   "outputs": [],
   "source": [
    "def fitness(gene, target):\n",
    "    score = ((target[0] - 36*gene[0] - 16*gene[1] - 43*gene[2])**2 +\n",
    "             (target[1] - 23*gene[0] - 13*gene[1] - 25*gene[2])**2 +\n",
    "             (target[2] - 26*gene[0] - 16*gene[1] - 26*gene[2])**2)\n",
    "    return score"
   ]
  },
  {
   "cell_type": "code",
   "execution_count": 12,
   "metadata": {
    "collapsed": true
   },
   "outputs": [],
   "source": [
    "solution = [6,0,0]\n",
    "\n"
   ]
  },
  {
   "cell_type": "code",
   "execution_count": 13,
   "metadata": {},
   "outputs": [
    {
     "name": "stdout",
     "output_type": "stream",
     "text": [
      "10436\n"
     ]
    }
   ],
   "source": [
    "print(fitness(solution, tarNut))"
   ]
  },
  {
   "cell_type": "markdown",
   "metadata": {},
   "source": [
    "## Population generation"
   ]
  },
  {
   "cell_type": "code",
   "execution_count": 14,
   "metadata": {
    "collapsed": true
   },
   "outputs": [],
   "source": [
    "def generateChild():\n",
    "    gene = []\n",
    "    for i in range(3):\n",
    "        chrom = random.randint(0,5)\n",
    "        gene.append(chrom)\n",
    "    return gene"
   ]
  },
  {
   "cell_type": "code",
   "execution_count": 24,
   "metadata": {
    "collapsed": true
   },
   "outputs": [],
   "source": [
    "def generatePop(popSize):\n",
    "    population = []\n",
    "    i = 0\n",
    "    while i < popSize:\n",
    "        population.append(generateChild())\n",
    "        i+=1\n",
    "    #population.pop(len(population))\n",
    "    print(population)\n",
    "    return population"
   ]
  },
  {
   "cell_type": "code",
   "execution_count": 25,
   "metadata": {},
   "outputs": [
    {
     "name": "stdout",
     "output_type": "stream",
     "text": [
      "[[3, 1, 1], [1, 4, 0], [2, 1, 5], [1, 0, 1], [5, 3, 1], [4, 1, 0], [3, 3, 1], [5, 1, 2], [1, 0, 2], [1, 4, 0], [2, 0, 4], [4, 0, 1], [3, 4, 2], [1, 2, 0], [5, 4, 2], [4, 3, 5], [5, 2, 4], [2, 1, 0], [5, 1, 0], [4, 4, 2], [0, 5, 4], [0, 4, 3], [1, 4, 2], [3, 1, 0], [1, 2, 3], [3, 1, 0], [2, 4, 2], [4, 4, 4], [4, 5, 0], [1, 2, 4], [0, 2, 2], [3, 1, 2], [3, 0, 2], [4, 3, 1], [5, 1, 1], [4, 0, 3], [2, 4, 3], [2, 3, 5], [0, 3, 1], [1, 3, 0], [1, 5, 0], [3, 2, 3], [3, 1, 4], [0, 1, 0], [3, 3, 4], [5, 3, 2], [0, 4, 1], [5, 1, 0], [4, 5, 1], [3, 3, 4], [4, 1, 2], [2, 3, 3], [5, 5, 2], [2, 3, 2], [0, 3, 2], [5, 1, 0], [4, 2, 2], [3, 1, 1], [0, 4, 5], [3, 2, 0], [5, 0, 0], [1, 4, 3], [4, 4, 1], [5, 3, 1], [5, 2, 0], [5, 2, 2], [0, 1, 0], [4, 2, 1], [2, 4, 4], [0, 4, 4], [4, 5, 3], [3, 4, 3], [5, 1, 5], [1, 5, 2], [3, 0, 2], [0, 0, 4], [2, 0, 5], [0, 5, 1], [3, 3, 0], [3, 2, 0], [1, 5, 1], [4, 5, 2], [5, 5, 3], [2, 1, 1], [3, 3, 1], [3, 2, 4], [2, 1, 4], [4, 4, 4], [0, 0, 3], [3, 4, 4], [0, 2, 3], [0, 2, 2], [4, 0, 1], [1, 2, 4], [4, 3, 4], [0, 5, 5], [1, 1, 2], [3, 3, 2], [2, 2, 0], [2, 2, 4]]\n"
     ]
    }
   ],
   "source": [
    "population = generatePop(100)"
   ]
  },
  {
   "cell_type": "markdown",
   "metadata": {},
   "source": [
    "Assesing performance of each "
   ]
  },
  {
   "cell_type": "code",
   "execution_count": 36,
   "metadata": {
    "collapsed": true
   },
   "outputs": [],
   "source": [
    "def computerPerfPopulation(pop):\n",
    "    populationPerf = {}\n",
    "    for gene in population:\n",
    "        gName = str(gene)\n",
    "        populationPerf[gName] = fitness(gene, tarNut)\n",
    "    return sorted(populationPerf.items(), key = operator.itemgetter(1), reverse = True)\n"
   ]
  },
  {
   "cell_type": "code",
   "execution_count": null,
   "metadata": {
    "collapsed": true
   },
   "outputs": [],
   "source": [
    "def selectFromPopulation()\n",
    "    nextGeneration = []\n",
    "    for i in range()"
   ]
  },
  {
   "cell_type": "code",
   "execution_count": 26,
   "metadata": {},
   "outputs": [
    {
     "name": "stdout",
     "output_type": "stream",
     "text": [
      "[[3, 1, 1], [1, 4, 0], [2, 1, 5], [1, 0, 1], [5, 3, 1], [4, 1, 0], [3, 3, 1], [5, 1, 2], [1, 0, 2], [1, 4, 0], [2, 0, 4], [4, 0, 1], [3, 4, 2], [1, 2, 0], [5, 4, 2], [4, 3, 5], [5, 2, 4], [2, 1, 0], [5, 1, 0], [4, 4, 2], [0, 5, 4], [0, 4, 3], [1, 4, 2], [3, 1, 0], [1, 2, 3], [3, 1, 0], [2, 4, 2], [4, 4, 4], [4, 5, 0], [1, 2, 4], [0, 2, 2], [3, 1, 2], [3, 0, 2], [4, 3, 1], [5, 1, 1], [4, 0, 3], [2, 4, 3], [2, 3, 5], [0, 3, 1], [1, 3, 0], [1, 5, 0], [3, 2, 3], [3, 1, 4], [0, 1, 0], [3, 3, 4], [5, 3, 2], [0, 4, 1], [5, 1, 0], [4, 5, 1], [3, 3, 4], [4, 1, 2], [2, 3, 3], [5, 5, 2], [2, 3, 2], [0, 3, 2], [5, 1, 0], [4, 2, 2], [3, 1, 1], [0, 4, 5], [3, 2, 0], [5, 0, 0], [1, 4, 3], [4, 4, 1], [5, 3, 1], [5, 2, 0], [5, 2, 2], [0, 1, 0], [4, 2, 1], [2, 4, 4], [0, 4, 4], [4, 5, 3], [3, 4, 3], [5, 1, 5], [1, 5, 2], [3, 0, 2], [0, 0, 4], [2, 0, 5], [0, 5, 1], [3, 3, 0], [3, 2, 0], [1, 5, 1], [4, 5, 2], [5, 5, 3], [2, 1, 1], [3, 3, 1], [3, 2, 4], [2, 1, 4], [4, 4, 4], [0, 0, 3], [3, 4, 4], [0, 2, 3], [0, 2, 2], [4, 0, 1], [1, 2, 4], [4, 3, 4], [0, 5, 5], [1, 1, 2], [3, 3, 2], [2, 2, 0], [2, 2, 4]]\n"
     ]
    }
   ],
   "source": [
    "print(population)"
   ]
  },
  {
   "cell_type": "code",
   "execution_count": 39,
   "metadata": {},
   "outputs": [
    {
     "data": {
      "text/plain": [
       "[('[0, 1, 0]', 105881),\n",
       " ('[1, 2, 0]', 65189),\n",
       " ('[1, 0, 1]', 61529),\n",
       " ('[4, 3, 5]', 57309),\n",
       " ('[5, 1, 5]', 55706),\n",
       " ('[5, 5, 3]', 54930),\n",
       " ('[1, 3, 0]', 54376),\n",
       " ('[2, 1, 0]', 53849),\n",
       " ('[0, 3, 1]', 51333),\n",
       " ('[4, 4, 4]', 45840),\n",
       " ('[1, 4, 0]', 44925),\n",
       " ('[2, 2, 0]', 44256),\n",
       " ('[5, 2, 4]', 44213),\n",
       " ('[0, 4, 1]', 42158),\n",
       " ('[0, 2, 2]', 38916),\n",
       " ('[1, 0, 2]', 38457),\n",
       " ('[1, 5, 0]', 36836),\n",
       " ('[4, 5, 3]', 36317),\n",
       " ('[4, 3, 4]', 36113),\n",
       " ('[0, 0, 3]', 35990),\n",
       " ('[3, 1, 0]', 35336),\n",
       " ('[5, 5, 2]', 35020),\n",
       " ('[0, 5, 1]', 34345),\n",
       " ('[2, 1, 1]', 32933),\n",
       " ('[0, 3, 2]', 31237),\n",
       " ('[1, 1, 2]', 30636),\n",
       " ('[3, 4, 4]', 29213),\n",
       " ('[3, 2, 0]', 28325),\n",
       " ('[5, 4, 2]', 27065),\n",
       " ('[2, 3, 5]', 23025),\n",
       " ('[3, 3, 0]', 22676),\n",
       " ('[0, 2, 3]', 22262),\n",
       " ('[3, 3, 4]', 22068),\n",
       " ('[4, 5, 2]', 22005),\n",
       " ('[4, 1, 0]', 21825),\n",
       " ('[1, 5, 1]', 21754),\n",
       " ('[5, 3, 2]', 20472),\n",
       " ('[3, 1, 1]', 20018),\n",
       " ('[0, 0, 4]', 19920),\n",
       " ('[2, 4, 4]', 17588),\n",
       " ('[3, 4, 3]', 17057),\n",
       " ('[4, 4, 2]', 16632),\n",
       " ('[5, 0, 0]', 16525),\n",
       " ('[3, 2, 4]', 16285),\n",
       " ('[1, 4, 2]', 15345),\n",
       " ('[5, 2, 2]', 15241),\n",
       " ('[4, 0, 1]', 15038),\n",
       " ('[0, 5, 5]', 14625),\n",
       " ('[4, 5, 1]', 13993),\n",
       " ('[0, 4, 3]', 13982),\n",
       " ('[3, 0, 2]', 13657),\n",
       " ('[5, 1, 0]', 13316),\n",
       " ('[1, 2, 3]', 13121),\n",
       " ('[3, 3, 1]', 13074),\n",
       " ('[1, 5, 2]', 12972),\n",
       " ('[5, 3, 1]', 12578),\n",
       " ('[4, 5, 0]', 12281),\n",
       " ('[2, 1, 5]', 12269),\n",
       " ('[2, 3, 2]', 11925),\n",
       " ('[3, 1, 4]', 11864),\n",
       " ('[4, 4, 1]', 11478),\n",
       " ('[5, 2, 0]', 11469),\n",
       " ('[5, 1, 2]', 11372),\n",
       " ('[3, 4, 2]', 11201),\n",
       " ('[2, 4, 3]', 11030),\n",
       " ('[0, 4, 5]', 11006),\n",
       " ('[3, 1, 2]', 11000),\n",
       " ('[2, 4, 2]', 10772),\n",
       " ('[4, 2, 1]', 10534),\n",
       " ('[4, 3, 1]', 10325),\n",
       " ('[0, 5, 4]', 10105),\n",
       " ('[1, 4, 3]', 10005),\n",
       " ('[4, 2, 2]', 9972),\n",
       " ('[3, 2, 3]', 9845),\n",
       " ('[2, 2, 4]', 9824),\n",
       " ('[3, 3, 2]', 9772),\n",
       " ('[0, 4, 4]', 9344),\n",
       " ('[2, 3, 3]', 9325),\n",
       " ('[5, 1, 1]', 9194),\n",
       " ('[2, 0, 5]', 8934),\n",
       " ('[4, 0, 3]', 8782),\n",
       " ('[4, 1, 2]', 8685),\n",
       " ('[1, 2, 4]', 8365),\n",
       " ('[2, 1, 4]', 7985),\n",
       " ('[2, 0, 4]', 7508)]"
      ]
     },
     "execution_count": 39,
     "metadata": {},
     "output_type": "execute_result"
    }
   ],
   "source": [
    "computerPerfPopulation(population)"
   ]
  },
  {
   "cell_type": "code",
   "execution_count": 33,
   "metadata": {
    "collapsed": true
   },
   "outputs": [],
   "source": [
    "listy = [2,3,4]\n"
   ]
  },
  {
   "cell_type": "code",
   "execution_count": 34,
   "metadata": {
    "collapsed": true
   },
   "outputs": [],
   "source": [
    "listy = str(listy)"
   ]
  },
  {
   "cell_type": "code",
   "execution_count": 35,
   "metadata": {},
   "outputs": [
    {
     "data": {
      "text/plain": [
       "'[2, 3, 4]'"
      ]
     },
     "execution_count": 35,
     "metadata": {},
     "output_type": "execute_result"
    }
   ],
   "source": [
    "listy"
   ]
  },
  {
   "cell_type": "code",
   "execution_count": null,
   "metadata": {
    "collapsed": true
   },
   "outputs": [],
   "source": []
  }
 ],
 "metadata": {
  "kernelspec": {
   "display_name": "Python 3",
   "language": "python",
   "name": "python3"
  },
  "language_info": {
   "codemirror_mode": {
    "name": "ipython",
    "version": 3
   },
   "file_extension": ".py",
   "mimetype": "text/x-python",
   "name": "python",
   "nbconvert_exporter": "python",
   "pygments_lexer": "ipython3",
   "version": "3.6.3"
  }
 },
 "nbformat": 4,
 "nbformat_minor": 2
}
