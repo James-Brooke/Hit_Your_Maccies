{
 "cells": [
  {
   "cell_type": "markdown",
   "metadata": {},
   "source": [
    "## Libraries"
   ]
  },
  {
   "cell_type": "code",
   "execution_count": 1,
   "metadata": {
    "collapsed": true
   },
   "outputs": [],
   "source": [
    "import random\n",
    "import operator"
   ]
  },
  {
   "cell_type": "markdown",
   "metadata": {},
   "source": [
    "## Genetic Algorithm Functions\n",
    "\n",
    "### Fitness Function"
   ]
  },
  {
   "cell_type": "code",
   "execution_count": 2,
   "metadata": {
    "collapsed": true
   },
   "outputs": [],
   "source": [
    "def fitness(gene, target):\n",
    "    score = ((target[0] - 36*gene[0] - 16*gene[1] - 43*gene[2] - 36*gene[3])**2 +\n",
    "             (target[1] - 23*gene[0] - 13*gene[1] - 25*gene[2]- 28*gene[3])**2 +\n",
    "             (target[2] - 26*gene[0] - 16*gene[1] - 26*gene[2]- 32*gene[3])**2)\n",
    "    return score"
   ]
  },
  {
   "cell_type": "markdown",
   "metadata": {},
   "source": [
    "### Initial Population functions"
   ]
  },
  {
   "cell_type": "code",
   "execution_count": 3,
   "metadata": {
    "collapsed": true
   },
   "outputs": [],
   "source": [
    "def generateChild():\n",
    "    gene = []\n",
    "    for i in range(4):\n",
    "        chrom = random.randint(0,5)\n",
    "        gene.append(chrom)\n",
    "    return gene"
   ]
  },
  {
   "cell_type": "code",
   "execution_count": 4,
   "metadata": {
    "collapsed": true
   },
   "outputs": [],
   "source": [
    "def generatePop(popSize):\n",
    "    population = []\n",
    "    i = 0\n",
    "    while i < popSize:\n",
    "        population.append(generateChild())\n",
    "        i+=1\n",
    "    #population.pop(len(population))\n",
    "    print(population)\n",
    "    return population"
   ]
  },
  {
   "cell_type": "markdown",
   "metadata": {},
   "source": [
    "### Calculation performance of genes"
   ]
  },
  {
   "cell_type": "code",
   "execution_count": 5,
   "metadata": {
    "collapsed": true
   },
   "outputs": [],
   "source": [
    "def computePerfPopulation(population):\n",
    "    populationPerf = {}\n",
    "    for gene in population:\n",
    "        gName = str(gene)\n",
    "        populationPerf[gName] = fitness(gene, tarNut)\n",
    "    return sorted(populationPerf.items(), key = operator.itemgetter(1), reverse = False)"
   ]
  },
  {
   "cell_type": "markdown",
   "metadata": {},
   "source": [
    "### Selecting to Breed"
   ]
  },
  {
   "cell_type": "code",
   "execution_count": 6,
   "metadata": {
    "collapsed": true
   },
   "outputs": [],
   "source": [
    "def selectFromPopulation(sPop, best_sample, lucky_few):\n",
    "    nextGeneration = []    \n",
    "    for i in range(best_sample):\n",
    "        nextGeneration.append(sPop[i][0])\n",
    "    for i in range(lucky_few):\n",
    "        nextGeneration.append(random.choice(sPop)[0])\n",
    "        random.shuffle(nextGeneration)\n",
    "    return nextGeneration"
   ]
  },
  {
   "cell_type": "code",
   "execution_count": 7,
   "metadata": {
    "collapsed": true
   },
   "outputs": [],
   "source": [
    "def betterDestring(sortedpop):\n",
    "    i = 0\n",
    "    for i in range(len(sortedpop)):\n",
    "        sortedpop[i] = sortedpop[i].replace(\"[\", \"\")\n",
    "        sortedpop[i] = sortedpop[i].replace(\"]\", \"\")\n",
    "        sortedpop[i] = sortedpop[i].split(\",\")\n",
    "        sortedpop[i] = list(map(int, sortedpop[i]))\n",
    "        i += 1\n",
    "\n",
    "    return sortedpop"
   ]
  },
  {
   "cell_type": "markdown",
   "metadata": {},
   "source": [
    "### Breeding"
   ]
  },
  {
   "cell_type": "code",
   "execution_count": 8,
   "metadata": {
    "collapsed": true
   },
   "outputs": [],
   "source": [
    "def createChild(parent1, parent2):\n",
    "    child = []\n",
    "    for i in range(len(parent1)):\n",
    "        if(int(100*random.random()) < 50):\n",
    "            child.append(parent1[i])\n",
    "        else:\n",
    "            child.append(parent2[i])\n",
    "    return child"
   ]
  },
  {
   "cell_type": "code",
   "execution_count": 9,
   "metadata": {
    "collapsed": true
   },
   "outputs": [],
   "source": [
    "def createChildren(breeders, number_of_child):\n",
    "    nextPopulation = []\n",
    "    for i in range(int(len(breeders)/2)):\n",
    "        for j in range(number_of_child):\n",
    "            nextPopulation.append(createChild(breeders[i],breeders[len(breeders) -1 -i]))\n",
    "    return nextPopulation"
   ]
  },
  {
   "cell_type": "markdown",
   "metadata": {},
   "source": [
    "### Mutation"
   ]
  },
  {
   "cell_type": "code",
   "execution_count": 10,
   "metadata": {
    "collapsed": true
   },
   "outputs": [],
   "source": [
    "def mutate(gene):\n",
    "    index_mod = random.randint(0, 3)\n",
    "    gene[index_mod] = random.randint(0,5)\n",
    "    return gene\n"
   ]
  },
  {
   "cell_type": "code",
   "execution_count": 11,
   "metadata": {
    "collapsed": true
   },
   "outputs": [],
   "source": [
    "def mutatePopulation(population, chance_of_mutation):\n",
    "    for i  in range(len(population)):\n",
    "        if random.random()*100 < chance_of_mutation:\n",
    "            population[i] = mutate(population[i])\n",
    "        return population"
   ]
  },
  {
   "cell_type": "markdown",
   "metadata": {},
   "source": [
    "# Creating Multiple Generations"
   ]
  },
  {
   "cell_type": "code",
   "execution_count": 12,
   "metadata": {
    "collapsed": true
   },
   "outputs": [],
   "source": [
    "def nextGeneration(firstGeneration, best_sample, lucky_few, number_of_child, chance_of_mutation):\n",
    "    populationSorted = computePerfPopulation(firstGeneration)\n",
    "    nextBreeders = selectFromPopulation(populationSorted, best_sample, lucky_few)\n",
    "    destringBreeders = betterDestring(nextBreeders)\n",
    "    nextPopulation = createChildren(destringBreeders, number_of_child)\n",
    "    nextGeneration = mutatePopulation(nextPopulation, chance_of_mutation)\n",
    "    \n",
    "    return nextGeneration"
   ]
  },
  {
   "cell_type": "code",
   "execution_count": 13,
   "metadata": {
    "collapsed": true
   },
   "outputs": [],
   "source": [
    "def multipleGeneration(number_of_generation, popSize, best_sample, lucky_few, number_of_child, chance_of_mutation):\n",
    "    historic = []\n",
    "    historicBest = []\n",
    "    initialpop = generatePop(popSize)\n",
    "    historic.append(initialpop)\n",
    "    historicBest.append(getBestIndividualFromPopulation(initialpop))\n",
    "    for i in range (number_of_generation):\n",
    "        historic.append(nextGeneration(historic[i], best_sample, lucky_few, number_of_child, chance_of_mutation))\n",
    "    return historic\n",
    "    return historicBest\n"
   ]
  },
  {
   "cell_type": "markdown",
   "metadata": {},
   "source": [
    "# Analysis"
   ]
  },
  {
   "cell_type": "code",
   "execution_count": 14,
   "metadata": {
    "collapsed": true
   },
   "outputs": [],
   "source": [
    "def getBestIndividualFromPopulation(population):\n",
    "    return(computePerfPopulation(population)[0])"
   ]
  },
  {
   "cell_type": "code",
   "execution_count": 15,
   "metadata": {
    "collapsed": true
   },
   "outputs": [],
   "source": [
    "def storeBestHistoric(historic):\n",
    "    historicBest = []\n",
    "    historicBestScore = []\n",
    "    for population in historic:\n",
    "        historicBest.append(getBestIndividualFromPopulation(population))\n",
    "    for i in historicBest:\n",
    "        historicBestScore.append(i[1])\n",
    "    return historicBest, historicBestScore\n"
   ]
  },
  {
   "cell_type": "markdown",
   "metadata": {},
   "source": [
    "### Graphing"
   ]
  },
  {
   "cell_type": "code",
   "execution_count": 17,
   "metadata": {
    "collapsed": true
   },
   "outputs": [],
   "source": [
    "import matplotlib.pyplot as plt"
   ]
  },
  {
   "cell_type": "code",
   "execution_count": 18,
   "metadata": {
    "collapsed": true
   },
   "outputs": [],
   "source": [
    "\n",
    "def PlotCost(history):\n",
    "    plt.figure(figsize = (30,15))\n",
    "    plt.plot(history)\n",
    "    plt.show()\n",
    "    \n"
   ]
  },
  {
   "cell_type": "markdown",
   "metadata": {},
   "source": [
    "# Initiate"
   ]
  },
  {
   "cell_type": "code",
   "execution_count": 19,
   "metadata": {
    "collapsed": true
   },
   "outputs": [],
   "source": [
    "tarNut = [300, 80, 200]"
   ]
  },
  {
   "cell_type": "code",
   "execution_count": 23,
   "metadata": {},
   "outputs": [
    {
     "name": "stdout",
     "output_type": "stream",
     "text": [
      "[[2, 4, 4, 2], [1, 0, 2, 4], [1, 1, 5, 3], [0, 5, 2, 1], [3, 2, 1, 3], [4, 0, 3, 1], [3, 5, 0, 4], [2, 4, 4, 5], [5, 2, 5, 0], [2, 0, 0, 4], [4, 4, 2, 0], [4, 3, 1, 5], [4, 0, 4, 3], [5, 2, 3, 3], [0, 5, 0, 0], [0, 0, 3, 4], [2, 0, 2, 0], [5, 4, 1, 0], [4, 1, 3, 1], [0, 2, 2, 0], [1, 1, 5, 5], [1, 2, 3, 5], [4, 4, 5, 5], [2, 1, 1, 3], [2, 1, 5, 0], [4, 5, 1, 4], [3, 0, 0, 1], [5, 5, 4, 3], [2, 1, 0, 1], [3, 2, 5, 1], [3, 0, 5, 4], [4, 1, 1, 1], [1, 2, 1, 4], [4, 1, 0, 1], [0, 0, 3, 2], [3, 5, 1, 2], [4, 2, 1, 3], [4, 3, 2, 3], [4, 2, 0, 0], [5, 2, 5, 4], [1, 3, 2, 5], [4, 2, 0, 4], [3, 5, 0, 3], [4, 5, 1, 1], [2, 3, 4, 0], [5, 1, 3, 1], [3, 1, 5, 3], [3, 3, 3, 3], [1, 2, 3, 5], [5, 1, 2, 3], [2, 1, 3, 5], [1, 1, 4, 1], [4, 0, 3, 4], [3, 3, 0, 1], [3, 2, 0, 4], [4, 4, 3, 2], [5, 0, 3, 4], [4, 0, 4, 5], [2, 2, 0, 2], [5, 5, 2, 2], [1, 0, 4, 4], [2, 4, 3, 4], [4, 0, 3, 4], [5, 5, 0, 1], [1, 1, 2, 4], [3, 3, 3, 3], [1, 5, 3, 5], [5, 2, 1, 1], [2, 1, 0, 5], [3, 2, 1, 2], [2, 5, 5, 5], [1, 0, 4, 1], [4, 4, 1, 3], [0, 1, 1, 3], [3, 5, 5, 2], [0, 5, 3, 1], [3, 5, 5, 5], [4, 3, 0, 1], [2, 2, 1, 1], [1, 4, 3, 3], [0, 1, 2, 2], [0, 3, 1, 3], [1, 2, 5, 3], [5, 5, 0, 0], [4, 1, 1, 5], [4, 5, 4, 1], [5, 4, 0, 2], [4, 4, 5, 4], [5, 4, 0, 0], [5, 5, 4, 4], [0, 1, 1, 5], [2, 2, 0, 1], [5, 3, 2, 0], [0, 4, 1, 1], [4, 2, 1, 5], [3, 3, 0, 0], [0, 1, 5, 4], [3, 3, 2, 3], [4, 5, 3, 3], [5, 5, 2, 3]]\n"
     ]
    },
    {
     "data": {
      "image/png": "[encoded data removed]",
      "text/plain": [
       "<matplotlib.figure.Figure at 0x296930b8>"
      ]
     },
     "metadata": {},
     "output_type": "display_data"
    }
   ],
   "source": [
    "\n",
    "history = multipleGeneration(500, 100, 20, 5, 8, 0.1)\n",
    "historicBest, historicBestScore = storeBestHistoric(history)\n",
    "PlotCost(historicBestScore)"
   ]
  },
  {
   "cell_type": "code",
   "execution_count": null,
   "metadata": {
    "collapsed": true
   },
   "outputs": [],
   "source": []
  }
 ],
 "metadata": {
  "kernelspec": {
   "display_name": "Python 3",
   "language": "python",
   "name": "python3"
  },
  "language_info": {
   "codemirror_mode": {
    "name": "ipython",
    "version": 3
   },
   "file_extension": ".py",
   "mimetype": "text/x-python",
   "name": "python",
   "nbconvert_exporter": "python",
   "pygments_lexer": "ipython3",
   "version": "3.6.3"
  }
 },
 "nbformat": 4,
 "nbformat_minor": 2
}
