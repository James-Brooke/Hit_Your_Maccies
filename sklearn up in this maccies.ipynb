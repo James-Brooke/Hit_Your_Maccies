{
 "cells": [
  {
   "cell_type": "code",
   "execution_count": 1,
   "metadata": {},
   "outputs": [],
   "source": [
    "import math\n",
    "\n",
    "from scipy.optimize import minimize\n",
    "from functools import partial"
   ]
  },
  {
   "cell_type": "code",
   "execution_count": 2,
   "metadata": {},
   "outputs": [],
   "source": [
    "CHEESEBURGER = {\n",
    "    'carbs': 36,\n",
    "    'fat': 23,\n",
    "    'protein': 26\n",
    "}\n",
    "\n",
    "NUGGETS = {\n",
    "    'carbs': 18,\n",
    "    'fat': 13,\n",
    "    'protein': 16\n",
    "}\n",
    "\n",
    "BIGMAC = {\n",
    "    'carbs': 25,\n",
    "    'fat': 25,\n",
    "    'protein': 26\n",
    "}\n",
    "\n",
    "FOODS = [CHEESEBURGER, NUGGETS, BIGMAC]"
   ]
  },
  {
   "cell_type": "code",
   "execution_count": 3,
   "metadata": {},
   "outputs": [],
   "source": [
    "REQUIREMENTS = {\n",
    "    'carbs': 300,\n",
    "    'fat': 70,\n",
    "    'protein': 160\n",
    "}"
   ]
  },
  {
   "cell_type": "code",
   "execution_count": 4,
   "metadata": {},
   "outputs": [],
   "source": [
    "def cost(quantities, requirements, foods):\n",
    "    cost = 0\n",
    "    for req in requirements:\n",
    "        total_food_macro = 0\n",
    "        for food, quant in zip(foods, quantities):\n",
    "            total_food_macro += quant * food[req] #Number of items * macros per item\n",
    "        cost += (requirements[req] - total_food_macro)**2\n",
    "    return cost"
   ]
  },
  {
   "cell_type": "code",
   "execution_count": 5,
   "metadata": {},
   "outputs": [],
   "source": [
    "def optimal_nutrition(foods, requirements):\n",
    "    quantities= [0 for i in range(len(foods))]\n",
    "    bounds = [(0, None) for i in range(len(foods))]\n",
    "    total_cost = partial(cost, requirements = requirements, foods=foods)\n",
    "    return minimize(total_cost, quantities, bounds=bounds)"
   ]
  },
  {
   "cell_type": "code",
   "execution_count": 6,
   "metadata": {},
   "outputs": [
    {
     "data": {
      "text/plain": [
       "      fun: 10717.952818929969\n",
       " hess_inv: <3x3 LbfgsInvHessProduct with dtype=float64>\n",
       "      jac: array([2.43744580e-02, 3.20716754e+02, 1.68227580e+03])\n",
       "  message: b'CONVERGENCE: REL_REDUCTION_OF_F_<=_FACTR*EPSMCH'\n",
       "     nfev: 52\n",
       "      nit: 9\n",
       "   status: 0\n",
       "  success: True\n",
       "        x: array([6.62535466, 0.        , 0.        ])"
      ]
     },
     "execution_count": 6,
     "metadata": {},
     "output_type": "execute_result"
    }
   ],
   "source": [
    "optimal_nutrition(FOODS, REQUIREMENTS)"
   ]
  },
  {
   "cell_type": "markdown",
   "metadata": {},
   "source": [
    "Cheeseburgers do indeed provide optimal nutrition."
   ]
  },
  {
   "cell_type": "code",
   "execution_count": 7,
   "metadata": {
    "scrolled": true
   },
   "outputs": [
    {
     "name": "stdout",
     "output_type": "stream",
     "text": [
      "829 µs ± 62 µs per loop (mean ± std. dev. of 7 runs, 1000 loops each)\n"
     ]
    }
   ],
   "source": [
    "#We will see how this slows down\n",
    "%timeit optimal_nutrition(FOODS, REQUIREMENTS)"
   ]
  },
  {
   "cell_type": "markdown",
   "metadata": {},
   "source": [
    "What about dat triple?"
   ]
  },
  {
   "cell_type": "code",
   "execution_count": 8,
   "metadata": {},
   "outputs": [],
   "source": [
    "TRIPLE_CHEESEBURGER = {\n",
    "    'carbs': 35,\n",
    "    'fat': 28,\n",
    "    'protein': 32\n",
    "}\n",
    "\n",
    "#Add a food\n",
    "FOODS = [CHEESEBURGER, NUGGETS, BIGMAC, TRIPLE_CHEESEBURGER]"
   ]
  },
  {
   "cell_type": "code",
   "execution_count": 9,
   "metadata": {},
   "outputs": [
    {
     "data": {
      "text/plain": [
       "      fun: 10717.952818872453\n",
       " hess_inv: <4x4 LbfgsInvHessProduct with dtype=float64>\n",
       "      jac: array([   0.        ,  320.70365705, 1682.25524249, 1093.91457954])\n",
       "  message: b'CONVERGENCE: NORM_OF_PROJECTED_GRADIENT_<=_PGTOL'\n",
       "     nfev: 95\n",
       "      nit: 14\n",
       "   status: 0\n",
       "  success: True\n",
       "        x: array([6.62534988, 0.        , 0.        , 0.        ])"
      ]
     },
     "execution_count": 9,
     "metadata": {},
     "output_type": "execute_result"
    }
   ],
   "source": [
    "optimal_nutrition(FOODS, REQUIREMENTS)"
   ]
  },
  {
   "cell_type": "markdown",
   "metadata": {},
   "source": [
    "The double is superior to the triple?!"
   ]
  },
  {
   "cell_type": "code",
   "execution_count": 10,
   "metadata": {},
   "outputs": [
    {
     "name": "stdout",
     "output_type": "stream",
     "text": [
      "1.31 ms ± 42.6 µs per loop (mean ± std. dev. of 7 runs, 1000 loops each)\n"
     ]
    }
   ],
   "source": [
    "#A fair bit slower with an extra food\n",
    "%timeit optimal_nutrition(FOODS, REQUIREMENTS)"
   ]
  },
  {
   "cell_type": "code",
   "execution_count": 11,
   "metadata": {},
   "outputs": [],
   "source": [
    "def how_far_out(requirements, foods):\n",
    "    chosen = optimal_nutrition(foods, requirements).x\n",
    "    index = chosen.argmax()\n",
    "    how_many = math.ceil(chosen[index])\n",
    "    \n",
    "    for macro in requirements: \n",
    "        out = requirements[macro] - foods[index][macro]*how_many\n",
    "        if out > 1:\n",
    "            print(macro, f'{out}', 'over')\n",
    "        else:\n",
    "            print(macro, f'{abs(out)}', 'under')"
   ]
  },
  {
   "cell_type": "code",
   "execution_count": 12,
   "metadata": {},
   "outputs": [
    {
     "name": "stdout",
     "output_type": "stream",
     "text": [
      "carbs 48 over\n",
      "fat 91 under\n",
      "protein 22 under\n"
     ]
    }
   ],
   "source": [
    "how_far_out(REQUIREMENTS, FOODS)"
   ]
  },
  {
   "cell_type": "code",
   "execution_count": null,
   "metadata": {},
   "outputs": [],
   "source": []
  },
  {
   "cell_type": "code",
   "execution_count": null,
   "metadata": {},
   "outputs": [],
   "source": []
  },
  {
   "cell_type": "code",
   "execution_count": null,
   "metadata": {},
   "outputs": [],
   "source": []
  },
  {
   "cell_type": "code",
   "execution_count": null,
   "metadata": {},
   "outputs": [],
   "source": []
  },
  {
   "cell_type": "markdown",
   "metadata": {},
   "source": [
    "Defining the function"
   ]
  },
  {
   "cell_type": "code",
   "execution_count": 13,
   "metadata": {},
   "outputs": [],
   "source": [
    "def f(params):\n",
    "    x1, x2, x3 = params\n",
    "    return(\n",
    "        (300 - (36*x1 + 18*x2 + 25*x3))**2 +\n",
    "        (70 - (23*x1 + 13*x2 + 25*x3))**2 + \n",
    "        (160-(26*x1 + 16*x2 + 26*x3))**2)"
   ]
  },
  {
   "cell_type": "markdown",
   "metadata": {},
   "source": [
    "Bounds for optimization, I aint throwing up no maccies for optimal nutrition"
   ]
  },
  {
   "cell_type": "code",
   "execution_count": 14,
   "metadata": {},
   "outputs": [],
   "source": [
    "bnds = ((0, None), (0, None), (0,None))"
   ]
  },
  {
   "cell_type": "markdown",
   "metadata": {},
   "source": [
    "Import sklearn\n",
    "????\n",
    "Fole Douce"
   ]
  },
  {
   "cell_type": "code",
   "execution_count": 15,
   "metadata": {},
   "outputs": [],
   "source": [
    "X0 = [0,0,0]\n",
    "\n",
    "result = minimize(f, X0, bounds = bnds)"
   ]
  },
  {
   "cell_type": "code",
   "execution_count": 16,
   "metadata": {},
   "outputs": [
    {
     "data": {
      "text/plain": [
       "      fun: 10717.952818929969\n",
       " hess_inv: <3x3 LbfgsInvHessProduct with dtype=float64>\n",
       "      jac: array([2.43744580e-02, 3.20716754e+02, 1.68227580e+03])\n",
       "  message: b'CONVERGENCE: REL_REDUCTION_OF_F_<=_FACTR*EPSMCH'\n",
       "     nfev: 52\n",
       "      nit: 9\n",
       "   status: 0\n",
       "  success: True\n",
       "        x: array([6.62535466, 0.        , 0.        ])"
      ]
     },
     "execution_count": 16,
     "metadata": {},
     "output_type": "execute_result"
    }
   ],
   "source": [
    "result"
   ]
  },
  {
   "cell_type": "markdown",
   "metadata": {},
   "source": [
    "As I suspected, double cheeseburgers provide optimal nutrition."
   ]
  },
  {
   "cell_type": "code",
   "execution_count": 17,
   "metadata": {},
   "outputs": [
    {
     "data": {
      "text/plain": [
       "10717.95281887245"
      ]
     },
     "execution_count": 17,
     "metadata": {},
     "output_type": "execute_result"
    }
   ],
   "source": [
    "f([6.62534983, 0.        , 0.        ])"
   ]
  },
  {
   "cell_type": "code",
   "execution_count": null,
   "metadata": {},
   "outputs": [],
   "source": []
  }
 ],
 "metadata": {
  "kernelspec": {
   "display_name": "Python 3",
   "language": "python",
   "name": "python3"
  },
  "language_info": {
   "codemirror_mode": {
    "name": "ipython",
    "version": 3
   },
   "file_extension": ".py",
   "mimetype": "text/x-python",
   "name": "python",
   "nbconvert_exporter": "python",
   "pygments_lexer": "ipython3",
   "version": "3.6.6"
  }
 },
 "nbformat": 4,
 "nbformat_minor": 2
}
