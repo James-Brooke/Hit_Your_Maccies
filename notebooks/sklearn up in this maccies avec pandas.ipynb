{
 "cells": [
  {
   "cell_type": "code",
   "execution_count": 101,
   "metadata": {
    "collapsed": true
   },
   "outputs": [],
   "source": [
    "import math\n",
    "\n",
    "from scipy.optimize import minimize\n",
    "from functools import partial"
   ]
  },
  {
   "cell_type": "code",
   "execution_count": 102,
   "metadata": {
    "collapsed": true
   },
   "outputs": [],
   "source": [
    "CHEESEBURGER = {\n",
    "    'carbs': 36,\n",
    "    'fat': 23,\n",
    "    'protein': 26\n",
    "}\n",
    "\n",
    "NUGGETS = {\n",
    "    'carbs': 18,\n",
    "    'fat': 13,\n",
    "    'protein': 16\n",
    "}\n",
    "\n",
    "BIGMAC = {\n",
    "    'carbs': 25,\n",
    "    'fat': 25,\n",
    "    'protein': 26\n",
    "}\n",
    "\n",
    "FOODS = [CHEESEBURGER, NUGGETS, BIGMAC]"
   ]
  },
  {
   "cell_type": "code",
   "execution_count": 103,
   "metadata": {
    "collapsed": true
   },
   "outputs": [],
   "source": [
    "REQUIREMENTS = {\n",
    "    'carbs': 300,\n",
    "    'fat': 70,\n",
    "    'protein': 160\n",
    "}"
   ]
  },
  {
   "cell_type": "code",
   "execution_count": 104,
   "metadata": {
    "collapsed": true
   },
   "outputs": [],
   "source": [
    "def cost(quantities, requirements, foods):\n",
    "    cost = 0\n",
    "    for req in requirements:\n",
    "        total_food_macro = 0\n",
    "        for food, quant in zip(foods, quantities):\n",
    "            total_food_macro += quant * food[req] #Number of items * macros per item\n",
    "        cost += (requirements[req] - total_food_macro)**2\n",
    "    return cost"
   ]
  },
  {
   "cell_type": "code",
   "execution_count": 105,
   "metadata": {
    "collapsed": true
   },
   "outputs": [],
   "source": [
    "def optimal_nutrition(foods, requirements):\n",
    "    quantities= [0 for i in range(len(foods))]\n",
    "    bounds = [(0, None) for i in range(len(foods))]\n",
    "    total_cost = partial(cost, requirements = requirements, foods=foods)\n",
    "    return minimize(total_cost, quantities, bounds=bounds)"
   ]
  },
  {
   "cell_type": "code",
   "execution_count": 106,
   "metadata": {},
   "outputs": [
    {
     "data": {
      "text/plain": [
       "      fun: 10717.952818927368\n",
       " hess_inv: <3x3 LbfgsInvHessProduct with dtype=float64>\n",
       "      jac: array([2.32830644e-02, 3.20716390e+02, 1.68227525e+03])\n",
       "  message: b'CONVERGENCE: REL_REDUCTION_OF_F_<=_FACTR*EPSMCH'\n",
       "     nfev: 52\n",
       "      nit: 9\n",
       "   status: 0\n",
       "  success: True\n",
       "        x: array([6.62535455, 0.        , 0.        ])"
      ]
     },
     "execution_count": 106,
     "metadata": {},
     "output_type": "execute_result"
    }
   ],
   "source": [
    "optimal_nutrition(FOODS, REQUIREMENTS)"
   ]
  },
  {
   "cell_type": "markdown",
   "metadata": {},
   "source": [
    "Cheeseburgers do indeed provide optimal nutrition."
   ]
  },
  {
   "cell_type": "code",
   "execution_count": 7,
   "metadata": {
    "scrolled": true
   },
   "outputs": [
    {
     "name": "stdout",
     "output_type": "stream",
     "text": [
      "829 µs ± 62 µs per loop (mean ± std. dev. of 7 runs, 1000 loops each)\n"
     ]
    }
   ],
   "source": [
    "#We will see how this slows down\n",
    "%timeit optimal_nutrition(FOODS, REQUIREMENTS)"
   ]
  },
  {
   "cell_type": "markdown",
   "metadata": {},
   "source": [
    "What about dat triple?"
   ]
  },
  {
   "cell_type": "code",
   "execution_count": 8,
   "metadata": {
    "collapsed": true
   },
   "outputs": [],
   "source": [
    "TRIPLE_CHEESEBURGER = {\n",
    "    'carbs': 35,\n",
    "    'fat': 28,\n",
    "    'protein': 32\n",
    "}\n",
    "\n",
    "#Add a food\n",
    "FOODS = [CHEESEBURGER, NUGGETS, BIGMAC, TRIPLE_CHEESEBURGER]"
   ]
  },
  {
   "cell_type": "code",
   "execution_count": 9,
   "metadata": {},
   "outputs": [
    {
     "data": {
      "text/plain": [
       "      fun: 10717.952818872453\n",
       " hess_inv: <4x4 LbfgsInvHessProduct with dtype=float64>\n",
       "      jac: array([   0.        ,  320.70365705, 1682.25524249, 1093.91457954])\n",
       "  message: b'CONVERGENCE: NORM_OF_PROJECTED_GRADIENT_<=_PGTOL'\n",
       "     nfev: 95\n",
       "      nit: 14\n",
       "   status: 0\n",
       "  success: True\n",
       "        x: array([6.62534988, 0.        , 0.        , 0.        ])"
      ]
     },
     "execution_count": 9,
     "metadata": {},
     "output_type": "execute_result"
    }
   ],
   "source": [
    "optimal_nutrition(FOODS, REQUIREMENTS)"
   ]
  },
  {
   "cell_type": "markdown",
   "metadata": {},
   "source": [
    "The double is superior to the triple?!"
   ]
  },
  {
   "cell_type": "code",
   "execution_count": 10,
   "metadata": {},
   "outputs": [
    {
     "name": "stdout",
     "output_type": "stream",
     "text": [
      "1.31 ms ± 42.6 µs per loop (mean ± std. dev. of 7 runs, 1000 loops each)\n"
     ]
    }
   ],
   "source": [
    "#A fair bit slower with an extra food\n",
    "%timeit optimal_nutrition(FOODS, REQUIREMENTS)"
   ]
  },
  {
   "cell_type": "code",
   "execution_count": 11,
   "metadata": {
    "collapsed": true
   },
   "outputs": [],
   "source": [
    "def how_far_out(requirements, foods):\n",
    "    chosen = optimal_nutrition(foods, requirements).x\n",
    "    index = chosen.argmax()\n",
    "    how_many = math.ceil(chosen[index])\n",
    "    \n",
    "    for macro in requirements: \n",
    "        out = requirements[macro] - foods[index][macro]*how_many\n",
    "        if out < 1:\n",
    "            print(macro, f'{out}', 'over')\n",
    "        else:\n",
    "            print(macro, f'{abs(out)}', 'under')"
   ]
  },
  {
   "cell_type": "code",
   "execution_count": 12,
   "metadata": {},
   "outputs": [
    {
     "name": "stdout",
     "output_type": "stream",
     "text": [
      "carbs 48 over\n",
      "fat 91 under\n",
      "protein 22 under\n"
     ]
    }
   ],
   "source": [
    "how_far_out(REQUIREMENTS, FOODS)"
   ]
  },
  {
   "cell_type": "code",
   "execution_count": null,
   "metadata": {
    "collapsed": true
   },
   "outputs": [],
   "source": []
  },
  {
   "cell_type": "code",
   "execution_count": null,
   "metadata": {
    "collapsed": true
   },
   "outputs": [],
   "source": []
  },
  {
   "cell_type": "code",
   "execution_count": null,
   "metadata": {
    "collapsed": true
   },
   "outputs": [],
   "source": []
  },
  {
   "cell_type": "code",
   "execution_count": null,
   "metadata": {
    "collapsed": true
   },
   "outputs": [],
   "source": []
  },
  {
   "cell_type": "markdown",
   "metadata": {},
   "source": [
    "Defining the function"
   ]
  },
  {
   "cell_type": "code",
   "execution_count": 13,
   "metadata": {
    "collapsed": true
   },
   "outputs": [],
   "source": [
    "def f(params):\n",
    "    x1, x2, x3 = params\n",
    "    return(\n",
    "        (300 - (36*x1 + 18*x2 + 25*x3))**2 +\n",
    "        (70 - (23*x1 + 13*x2 + 25*x3))**2 + \n",
    "        (160-(26*x1 + 16*x2 + 26*x3))**2)"
   ]
  },
  {
   "cell_type": "markdown",
   "metadata": {},
   "source": [
    "Bounds for optimization, I aint throwing up no maccies for optimal nutrition"
   ]
  },
  {
   "cell_type": "code",
   "execution_count": 14,
   "metadata": {
    "collapsed": true
   },
   "outputs": [],
   "source": [
    "bnds = ((0, None), (0, None), (0,None))"
   ]
  },
  {
   "cell_type": "markdown",
   "metadata": {},
   "source": [
    "Import sklearn\n",
    "????\n",
    "Fole Douce"
   ]
  },
  {
   "cell_type": "code",
   "execution_count": 15,
   "metadata": {
    "collapsed": true
   },
   "outputs": [],
   "source": [
    "X0 = [0,0,0]\n",
    "\n",
    "result = minimize(f, X0, bounds = bnds)"
   ]
  },
  {
   "cell_type": "code",
   "execution_count": 16,
   "metadata": {},
   "outputs": [
    {
     "data": {
      "text/plain": [
       "      fun: 10717.952818929969\n",
       " hess_inv: <3x3 LbfgsInvHessProduct with dtype=float64>\n",
       "      jac: array([2.43744580e-02, 3.20716754e+02, 1.68227580e+03])\n",
       "  message: b'CONVERGENCE: REL_REDUCTION_OF_F_<=_FACTR*EPSMCH'\n",
       "     nfev: 52\n",
       "      nit: 9\n",
       "   status: 0\n",
       "  success: True\n",
       "        x: array([6.62535466, 0.        , 0.        ])"
      ]
     },
     "execution_count": 16,
     "metadata": {},
     "output_type": "execute_result"
    }
   ],
   "source": [
    "result"
   ]
  },
  {
   "cell_type": "markdown",
   "metadata": {},
   "source": [
    "As I suspected, double cheeseburgers provide optimal nutrition."
   ]
  },
  {
   "cell_type": "code",
   "execution_count": 17,
   "metadata": {},
   "outputs": [
    {
     "data": {
      "text/plain": [
       "10717.95281887245"
      ]
     },
     "execution_count": 17,
     "metadata": {},
     "output_type": "execute_result"
    }
   ],
   "source": [
    "f([6.62534983, 0.        , 0.        ])"
   ]
  },
  {
   "cell_type": "markdown",
   "metadata": {},
   "source": [
    "### extract from df"
   ]
  },
  {
   "cell_type": "code",
   "execution_count": 2,
   "metadata": {
    "collapsed": true
   },
   "outputs": [],
   "source": [
    "import pandas as pd"
   ]
  },
  {
   "cell_type": "code",
   "execution_count": 47,
   "metadata": {},
   "outputs": [],
   "source": [
    "df = pd.read_csv(\"G:/My Projects/If_it_fits_your_maccies/menu.csv\")"
   ]
  },
  {
   "cell_type": "code",
   "execution_count": 48,
   "metadata": {},
   "outputs": [
    {
     "data": {
      "text/html": [
       "<div>\n",
       "<style scoped>\n",
       "    .dataframe tbody tr th:only-of-type {\n",
       "        vertical-align: middle;\n",
       "    }\n",
       "\n",
       "    .dataframe tbody tr th {\n",
       "        vertical-align: top;\n",
       "    }\n",
       "\n",
       "    .dataframe thead th {\n",
       "        text-align: right;\n",
       "    }\n",
       "</style>\n",
       "<table border=\"1\" class=\"dataframe\">\n",
       "  <thead>\n",
       "    <tr style=\"text-align: right;\">\n",
       "      <th></th>\n",
       "      <th>Category</th>\n",
       "      <th>Item</th>\n",
       "      <th>Serving Size</th>\n",
       "      <th>Calories</th>\n",
       "      <th>Calories from Fat</th>\n",
       "      <th>Total Fat</th>\n",
       "      <th>Total Fat (% Daily Value)</th>\n",
       "      <th>Saturated Fat</th>\n",
       "      <th>Saturated Fat (% Daily Value)</th>\n",
       "      <th>Trans Fat</th>\n",
       "      <th>...</th>\n",
       "      <th>Carbohydrates</th>\n",
       "      <th>Carbohydrates (% Daily Value)</th>\n",
       "      <th>Dietary Fiber</th>\n",
       "      <th>Dietary Fiber (% Daily Value)</th>\n",
       "      <th>Sugars</th>\n",
       "      <th>Protein</th>\n",
       "      <th>Vitamin A (% Daily Value)</th>\n",
       "      <th>Vitamin C (% Daily Value)</th>\n",
       "      <th>Calcium (% Daily Value)</th>\n",
       "      <th>Iron (% Daily Value)</th>\n",
       "    </tr>\n",
       "  </thead>\n",
       "  <tbody>\n",
       "    <tr>\n",
       "      <th>0</th>\n",
       "      <td>Breakfast</td>\n",
       "      <td>Egg McMuffin</td>\n",
       "      <td>4.8 oz (136 g)</td>\n",
       "      <td>300</td>\n",
       "      <td>120</td>\n",
       "      <td>13.0</td>\n",
       "      <td>20</td>\n",
       "      <td>5.0</td>\n",
       "      <td>25</td>\n",
       "      <td>0.0</td>\n",
       "      <td>...</td>\n",
       "      <td>31</td>\n",
       "      <td>10</td>\n",
       "      <td>4</td>\n",
       "      <td>17</td>\n",
       "      <td>3</td>\n",
       "      <td>17</td>\n",
       "      <td>10</td>\n",
       "      <td>0</td>\n",
       "      <td>25</td>\n",
       "      <td>15</td>\n",
       "    </tr>\n",
       "  </tbody>\n",
       "</table>\n",
       "<p>1 rows × 24 columns</p>\n",
       "</div>"
      ],
      "text/plain": [
       "    Category          Item    Serving Size  Calories  Calories from Fat  \\\n",
       "0  Breakfast  Egg McMuffin  4.8 oz (136 g)       300                120   \n",
       "\n",
       "   Total Fat  Total Fat (% Daily Value)  Saturated Fat  \\\n",
       "0       13.0                         20            5.0   \n",
       "\n",
       "   Saturated Fat (% Daily Value)  Trans Fat          ...           \\\n",
       "0                             25        0.0          ...            \n",
       "\n",
       "   Carbohydrates  Carbohydrates (% Daily Value)  Dietary Fiber  \\\n",
       "0             31                             10              4   \n",
       "\n",
       "   Dietary Fiber (% Daily Value)  Sugars  Protein  Vitamin A (% Daily Value)  \\\n",
       "0                             17       3       17                         10   \n",
       "\n",
       "   Vitamin C (% Daily Value)  Calcium (% Daily Value)  Iron (% Daily Value)  \n",
       "0                          0                       25                    15  \n",
       "\n",
       "[1 rows x 24 columns]"
      ]
     },
     "execution_count": 48,
     "metadata": {},
     "output_type": "execute_result"
    }
   ],
   "source": [
    "df.head(1)"
   ]
  },
  {
   "cell_type": "code",
   "execution_count": 49,
   "metadata": {
    "collapsed": true
   },
   "outputs": [],
   "source": [
    "df = df[[\"Item\",\"Total Fat\", \"Carbohydrates\", \"Protein\"]]"
   ]
  },
  {
   "cell_type": "code",
   "execution_count": 99,
   "metadata": {},
   "outputs": [],
   "source": [
    "nutri_val = df.to_dict(\"records\")"
   ]
  },
  {
   "cell_type": "code",
   "execution_count": 40,
   "metadata": {},
   "outputs": [
    {
     "data": {
      "text/plain": [
       "str"
      ]
     },
     "execution_count": 40,
     "metadata": {},
     "output_type": "execute_result"
    }
   ],
   "source": []
  },
  {
   "cell_type": "code",
   "execution_count": 100,
   "metadata": {},
   "outputs": [
    {
     "data": {
      "text/plain": [
       "[{'Carbohydrates': 31.0, 'Protein': 17.0, 'Total Fat': 13.0},\n",
       " {'Carbohydrates': 30.0, 'Protein': 18.0, 'Total Fat': 8.0},\n",
       " {'Carbohydrates': 29.0, 'Protein': 14.0, 'Total Fat': 23.0},\n",
       " {'Carbohydrates': 30.0, 'Protein': 21.0, 'Total Fat': 28.0},\n",
       " {'Carbohydrates': 30.0, 'Protein': 21.0, 'Total Fat': 23.0},\n",
       " {'Carbohydrates': 31.0, 'Protein': 26.0, 'Total Fat': 23.0},\n",
       " {'Carbohydrates': 38.0, 'Protein': 19.0, 'Total Fat': 26.0},\n",
       " {'Carbohydrates': 43.0, 'Protein': 19.0, 'Total Fat': 30.0},\n",
       " {'Carbohydrates': 36.0, 'Protein': 20.0, 'Total Fat': 20.0},\n",
       " {'Carbohydrates': 42.0, 'Protein': 20.0, 'Total Fat': 25.0},\n",
       " {'Carbohydrates': 34.0, 'Protein': 11.0, 'Total Fat': 27.0},\n",
       " {'Carbohydrates': 39.0, 'Protein': 11.0, 'Total Fat': 31.0},\n",
       " {'Carbohydrates': 36.0, 'Protein': 18.0, 'Total Fat': 33.0},\n",
       " {'Carbohydrates': 42.0, 'Protein': 18.0, 'Total Fat': 37.0},\n",
       " {'Carbohydrates': 34.0, 'Protein': 18.0, 'Total Fat': 27.0},\n",
       " {'Carbohydrates': 40.0, 'Protein': 18.0, 'Total Fat': 32.0},\n",
       " {'Carbohydrates': 41.0, 'Protein': 17.0, 'Total Fat': 20.0},\n",
       " {'Carbohydrates': 46.0, 'Protein': 17.0, 'Total Fat': 24.0},\n",
       " {'Carbohydrates': 38.0, 'Protein': 25.0, 'Total Fat': 32.0},\n",
       " {'Carbohydrates': 48.0, 'Protein': 19.0, 'Total Fat': 21.0},\n",
       " {'Carbohydrates': 47.0, 'Protein': 20.0, 'Total Fat': 15.0},\n",
       " {'Carbohydrates': 44.0, 'Protein': 11.0, 'Total Fat': 22.0},\n",
       " {'Carbohydrates': 48.0, 'Protein': 20.0, 'Total Fat': 31.0},\n",
       " {'Carbohydrates': 46.0, 'Protein': 21.0, 'Total Fat': 26.0},\n",
       " {'Carbohydrates': 57.0, 'Protein': 30.0, 'Total Fat': 31.0},\n",
       " {'Carbohydrates': 55.0, 'Protein': 30.0, 'Total Fat': 25.0},\n",
       " {'Carbohydrates': 56.0, 'Protein': 33.0, 'Total Fat': 35.0},\n",
       " {'Carbohydrates': 51.0, 'Protein': 28.0, 'Total Fat': 48.0},\n",
       " {'Carbohydrates': 56.0, 'Protein': 28.0, 'Total Fat': 52.0},\n",
       " {'Carbohydrates': 50.0, 'Protein': 26.0, 'Total Fat': 37.0},\n",
       " {'Carbohydrates': 55.0, 'Protein': 26.0, 'Total Fat': 41.0},\n",
       " {'Carbohydrates': 111.0, 'Protein': 36.0, 'Total Fat': 56.0},\n",
       " {'Carbohydrates': 116.0, 'Protein': 36.0, 'Total Fat': 60.0},\n",
       " {'Carbohydrates': 110.0, 'Protein': 35.0, 'Total Fat': 46.0},\n",
       " {'Carbohydrates': 115.0, 'Protein': 35.0, 'Total Fat': 50.0},\n",
       " {'Carbohydrates': 60.0, 'Protein': 8.0, 'Total Fat': 9.0},\n",
       " {'Carbohydrates': 61.0, 'Protein': 15.0, 'Total Fat': 24.0},\n",
       " {'Carbohydrates': 26.0, 'Protein': 12.0, 'Total Fat': 16.0},\n",
       " {'Carbohydrates': 15.0, 'Protein': 1.0, 'Total Fat': 9.0},\n",
       " {'Carbohydrates': 66.0, 'Protein': 6.0, 'Total Fat': 19.0},\n",
       " {'Carbohydrates': 58.0, 'Protein': 5.0, 'Total Fat': 4.0},\n",
       " {'Carbohydrates': 49.0, 'Protein': 5.0, 'Total Fat': 4.0},\n",
       " {'Carbohydrates': 47.0, 'Protein': 24.0, 'Total Fat': 27.0},\n",
       " {'Carbohydrates': 41.0, 'Protein': 30.0, 'Total Fat': 26.0},\n",
       " {'Carbohydrates': 48.0, 'Protein': 37.0, 'Total Fat': 29.0},\n",
       " {'Carbohydrates': 46.0, 'Protein': 37.0, 'Total Fat': 31.0},\n",
       " {'Carbohydrates': 45.0, 'Protein': 29.0, 'Total Fat': 27.0},\n",
       " {'Carbohydrates': 42.0, 'Protein': 48.0, 'Total Fat': 43.0},\n",
       " {'Carbohydrates': 32.0, 'Protein': 12.0, 'Total Fat': 8.0},\n",
       " {'Carbohydrates': 33.0, 'Protein': 15.0, 'Total Fat': 11.0},\n",
       " {'Carbohydrates': 35.0, 'Protein': 24.0, 'Total Fat': 21.0},\n",
       " {'Carbohydrates': 51.0, 'Protein': 39.0, 'Total Fat': 40.0},\n",
       " {'Carbohydrates': 34.0, 'Protein': 22.0, 'Total Fat': 17.0},\n",
       " {'Carbohydrates': 35.0, 'Protein': 27.0, 'Total Fat': 22.0},\n",
       " {'Carbohydrates': 34.0, 'Protein': 22.0, 'Total Fat': 22.0},\n",
       " {'Carbohydrates': 35.0, 'Protein': 22.0, 'Total Fat': 23.0},\n",
       " {'Carbohydrates': 44.0, 'Protein': 22.0, 'Total Fat': 26.0},\n",
       " {'Carbohydrates': 55.0, 'Protein': 24.0, 'Total Fat': 22.0},\n",
       " {'Carbohydrates': 42.0, 'Protein': 28.0, 'Total Fat': 9.0},\n",
       " {'Carbohydrates': 58.0, 'Protein': 36.0, 'Total Fat': 33.0},\n",
       " {'Carbohydrates': 44.0, 'Protein': 40.0, 'Total Fat': 20.0},\n",
       " {'Carbohydrates': 57.0, 'Protein': 32.0, 'Total Fat': 28.0},\n",
       " {'Carbohydrates': 43.0, 'Protein': 36.0, 'Total Fat': 15.0},\n",
       " {'Carbohydrates': 65.0, 'Protein': 36.0, 'Total Fat': 38.0},\n",
       " {'Carbohydrates': 51.0, 'Protein': 40.0, 'Total Fat': 25.0},\n",
       " {'Carbohydrates': 43.0, 'Protein': 21.0, 'Total Fat': 19.0},\n",
       " {'Carbohydrates': 40.0, 'Protein': 14.0, 'Total Fat': 16.0},\n",
       " {'Carbohydrates': 43.0, 'Protein': 22.0, 'Total Fat': 24.0},\n",
       " {'Carbohydrates': 41.0, 'Protein': 20.0, 'Total Fat': 21.0},\n",
       " {'Carbohydrates': 40.0, 'Protein': 14.0, 'Total Fat': 16.0},\n",
       " {'Carbohydrates': 56.0, 'Protein': 32.0, 'Total Fat': 32.0},\n",
       " {'Carbohydrates': 42.0, 'Protein': 36.0, 'Total Fat': 19.0},\n",
       " {'Carbohydrates': 56.0, 'Protein': 27.0, 'Total Fat': 31.0},\n",
       " {'Carbohydrates': 42.0, 'Protein': 30.0, 'Total Fat': 18.0},\n",
       " {'Carbohydrates': 68.0, 'Protein': 27.0, 'Total Fat': 33.0},\n",
       " {'Carbohydrates': 55.0, 'Protein': 31.0, 'Total Fat': 20.0},\n",
       " {'Carbohydrates': 61.0, 'Protein': 23.0, 'Total Fat': 23.0},\n",
       " {'Carbohydrates': 47.0, 'Protein': 27.0, 'Total Fat': 10.0},\n",
       " {'Carbohydrates': 12.0, 'Protein': 9.0, 'Total Fat': 12.0},\n",
       " {'Carbohydrates': 18.0, 'Protein': 13.0, 'Total Fat': 18.0},\n",
       " {'Carbohydrates': 30.0, 'Protein': 22.0, 'Total Fat': 30.0},\n",
       " {'Carbohydrates': 59.0, 'Protein': 44.0, 'Total Fat': 59.0},\n",
       " {'Carbohydrates': 118.0, 'Protein': 87.0, 'Total Fat': 118.0},\n",
       " {'Carbohydrates': 39.0, 'Protein': 15.0, 'Total Fat': 19.0},\n",
       " {'Carbohydrates': 10.0, 'Protein': 9.0, 'Total Fat': 7.0},\n",
       " {'Carbohydrates': 22.0, 'Protein': 25.0, 'Total Fat': 21.0},\n",
       " {'Carbohydrates': 8.0, 'Protein': 29.0, 'Total Fat': 8.0},\n",
       " {'Carbohydrates': 20.0, 'Protein': 6.0, 'Total Fat': 4.5},\n",
       " {'Carbohydrates': 42.0, 'Protein': 23.0, 'Total Fat': 22.0},\n",
       " {'Carbohydrates': 28.0, 'Protein': 27.0, 'Total Fat': 8.0},\n",
       " {'Carbohydrates': 37.0, 'Protein': 14.0, 'Total Fat': 15.0},\n",
       " {'Carbohydrates': 30.0, 'Protein': 16.0, 'Total Fat': 8.0},\n",
       " {'Carbohydrates': 34.0, 'Protein': 14.0, 'Total Fat': 15.0},\n",
       " {'Carbohydrates': 27.0, 'Protein': 16.0, 'Total Fat': 8.0},\n",
       " {'Carbohydrates': 32.0, 'Protein': 15.0, 'Total Fat': 20.0},\n",
       " {'Carbohydrates': 25.0, 'Protein': 16.0, 'Total Fat': 13.0},\n",
       " {'Carbohydrates': 30.0, 'Protein': 2.0, 'Total Fat': 11.0},\n",
       " {'Carbohydrates': 44.0, 'Protein': 4.0, 'Total Fat': 16.0},\n",
       " {'Carbohydrates': 67.0, 'Protein': 6.0, 'Total Fat': 24.0},\n",
       " {'Carbohydrates': 15.0, 'Protein': 1.0, 'Total Fat': 5.0},\n",
       " {'Carbohydrates': 4.0, 'Protein': 1.0, 'Total Fat': 0.0},\n",
       " {'Carbohydrates': 4.0, 'Protein': 0.0, 'Total Fat': 0.0},\n",
       " {'Carbohydrates': 30.0, 'Protein': 4.0, 'Total Fat': 2.0},\n",
       " {'Carbohydrates': 32.0, 'Protein': 2.0, 'Total Fat': 13.0},\n",
       " {'Carbohydrates': 21.0, 'Protein': 2.0, 'Total Fat': 8.0},\n",
       " {'Carbohydrates': 22.0, 'Protein': 2.0, 'Total Fat': 6.0},\n",
       " {'Carbohydrates': 7.0, 'Protein': 1.0, 'Total Fat': 1.5},\n",
       " {'Carbohydrates': 53.0, 'Protein': 8.0, 'Total Fat': 9.0},\n",
       " {'Carbohydrates': 60.0, 'Protein': 7.0, 'Total Fat': 8.0},\n",
       " {'Carbohydrates': 49.0, 'Protein': 6.0, 'Total Fat': 6.0},\n",
       " {'Carbohydrates': 39.0, 'Protein': 0.0, 'Total Fat': 0.0},\n",
       " {'Carbohydrates': 55.0, 'Protein': 0.0, 'Total Fat': 0.0},\n",
       " {'Carbohydrates': 76.0, 'Protein': 0.0, 'Total Fat': 0.0},\n",
       " {'Carbohydrates': 28.0, 'Protein': 0.0, 'Total Fat': 0.0},\n",
       " {'Carbohydrates': 0.0, 'Protein': 0.0, 'Total Fat': 0.0},\n",
       " {'Carbohydrates': 0.0, 'Protein': 0.0, 'Total Fat': 0.0},\n",
       " {'Carbohydrates': 0.0, 'Protein': 0.0, 'Total Fat': 0.0},\n",
       " {'Carbohydrates': 0.0, 'Protein': 0.0, 'Total Fat': 0.0},\n",
       " {'Carbohydrates': 37.0, 'Protein': 0.0, 'Total Fat': 0.0},\n",
       " {'Carbohydrates': 53.0, 'Protein': 0.0, 'Total Fat': 0.0},\n",
       " {'Carbohydrates': 72.0, 'Protein': 0.0, 'Total Fat': 0.0},\n",
       " {'Carbohydrates': 27.0, 'Protein': 0.0, 'Total Fat': 0.0},\n",
       " {'Carbohydrates': 0.0, 'Protein': 2.0, 'Total Fat': 0.0},\n",
       " {'Carbohydrates': 0.0, 'Protein': 3.0, 'Total Fat': 0.0},\n",
       " {'Carbohydrates': 0.0, 'Protein': 4.0, 'Total Fat': 0.0},\n",
       " {'Carbohydrates': 0.0, 'Protein': 1.0, 'Total Fat': 0.0},\n",
       " {'Carbohydrates': 37.0, 'Protein': 0.0, 'Total Fat': 0.0},\n",
       " {'Carbohydrates': 54.0, 'Protein': 0.0, 'Total Fat': 0.0},\n",
       " {'Carbohydrates': 74.0, 'Protein': 0.0, 'Total Fat': 0.0},\n",
       " {'Carbohydrates': 27.0, 'Protein': 0.0, 'Total Fat': 0.0},\n",
       " {'Carbohydrates': 12.0, 'Protein': 8.0, 'Total Fat': 2.5},\n",
       " {'Carbohydrates': 23.0, 'Protein': 9.0, 'Total Fat': 0.0},\n",
       " {'Carbohydrates': 21.0, 'Protein': 0.0, 'Total Fat': 0.0},\n",
       " {'Carbohydrates': 34.0, 'Protein': 2.0, 'Total Fat': 0.0},\n",
       " {'Carbohydrates': 44.0, 'Protein': 3.0, 'Total Fat': 0.0},\n",
       " {'Carbohydrates': 65.0, 'Protein': 4.0, 'Total Fat': 0.0},\n",
       " {'Carbohydrates': 0.0, 'Protein': 0.0, 'Total Fat': 0.0},\n",
       " {'Carbohydrates': 0.0, 'Protein': 0.0, 'Total Fat': 0.0},\n",
       " {'Carbohydrates': 0.0, 'Protein': 0.0, 'Total Fat': 0.0},\n",
       " {'Carbohydrates': 0.0, 'Protein': 0.0, 'Total Fat': 0.0},\n",
       " {'Carbohydrates': 0.0, 'Protein': 0.0, 'Total Fat': 0.0},\n",
       " {'Carbohydrates': 36.0, 'Protein': 1.0, 'Total Fat': 0.0},\n",
       " {'Carbohydrates': 45.0, 'Protein': 1.0, 'Total Fat': 0.0},\n",
       " {'Carbohydrates': 54.0, 'Protein': 1.0, 'Total Fat': 0.0},\n",
       " {'Carbohydrates': 27.0, 'Protein': 0.0, 'Total Fat': 0.0},\n",
       " {'Carbohydrates': 0.0, 'Protein': 0.0, 'Total Fat': 0.0},\n",
       " {'Carbohydrates': 0.0, 'Protein': 0.0, 'Total Fat': 0.0},\n",
       " {'Carbohydrates': 0.0, 'Protein': 0.0, 'Total Fat': 0.0},\n",
       " {'Carbohydrates': 15.0, 'Protein': 9.0, 'Total Fat': 9.0},\n",
       " {'Carbohydrates': 18.0, 'Protein': 11.0, 'Total Fat': 10.0},\n",
       " {'Carbohydrates': 24.0, 'Protein': 15.0, 'Total Fat': 14.0},\n",
       " {'Carbohydrates': 40.0, 'Protein': 9.0, 'Total Fat': 9.0},\n",
       " {'Carbohydrates': 50.0, 'Protein': 11.0, 'Total Fat': 10.0},\n",
       " {'Carbohydrates': 62.0, 'Protein': 15.0, 'Total Fat': 14.0},\n",
       " {'Carbohydrates': 40.0, 'Protein': 9.0, 'Total Fat': 9.0},\n",
       " {'Carbohydrates': 50.0, 'Protein': 11.0, 'Total Fat': 10.0},\n",
       " {'Carbohydrates': 62.0, 'Protein': 15.0, 'Total Fat': 14.0},\n",
       " {'Carbohydrates': 38.0, 'Protein': 9.0, 'Total Fat': 9.0},\n",
       " {'Carbohydrates': 48.0, 'Protein': 11.0, 'Total Fat': 10.0},\n",
       " {'Carbohydrates': 60.0, 'Protein': 15.0, 'Total Fat': 14.0},\n",
       " {'Carbohydrates': 24.0, 'Protein': 9.0, 'Total Fat': 9.0},\n",
       " {'Carbohydrates': 29.0, 'Protein': 12.0, 'Total Fat': 10.0},\n",
       " {'Carbohydrates': 37.0, 'Protein': 15.0, 'Total Fat': 14.0},\n",
       " {'Carbohydrates': 15.0, 'Protein': 10.0, 'Total Fat': 0.0},\n",
       " {'Carbohydrates': 19.0, 'Protein': 12.0, 'Total Fat': 0.0},\n",
       " {'Carbohydrates': 25.0, 'Protein': 16.0, 'Total Fat': 0.5},\n",
       " {'Carbohydrates': 41.0, 'Protein': 10.0, 'Total Fat': 0.0},\n",
       " {'Carbohydrates': 51.0, 'Protein': 12.0, 'Total Fat': 0.0},\n",
       " {'Carbohydrates': 63.0, 'Protein': 16.0, 'Total Fat': 0.5},\n",
       " {'Carbohydrates': 40.0, 'Protein': 10.0, 'Total Fat': 0.0},\n",
       " {'Carbohydrates': 51.0, 'Protein': 12.0, 'Total Fat': 0.0},\n",
       " {'Carbohydrates': 63.0, 'Protein': 16.0, 'Total Fat': 0.5},\n",
       " {'Carbohydrates': 39.0, 'Protein': 10.0, 'Total Fat': 0.0},\n",
       " {'Carbohydrates': 49.0, 'Protein': 12.0, 'Total Fat': 0.0},\n",
       " {'Carbohydrates': 60.0, 'Protein': 16.0, 'Total Fat': 0.5},\n",
       " {'Carbohydrates': 24.0, 'Protein': 10.0, 'Total Fat': 0.0},\n",
       " {'Carbohydrates': 30.0, 'Protein': 12.0, 'Total Fat': 0.0},\n",
       " {'Carbohydrates': 38.0, 'Protein': 16.0, 'Total Fat': 0.5},\n",
       " {'Carbohydrates': 49.0, 'Protein': 10.0, 'Total Fat': 11.0},\n",
       " {'Carbohydrates': 60.0, 'Protein': 13.0, 'Total Fat': 14.0},\n",
       " {'Carbohydrates': 72.0, 'Protein': 16.0, 'Total Fat': 17.0},\n",
       " {'Carbohydrates': 49.0, 'Protein': 11.0, 'Total Fat': 3.5},\n",
       " {'Carbohydrates': 60.0, 'Protein': 13.0, 'Total Fat': 3.5},\n",
       " {'Carbohydrates': 73.0, 'Protein': 17.0, 'Total Fat': 4.0},\n",
       " {'Carbohydrates': 45.0, 'Protein': 10.0, 'Total Fat': 11.0},\n",
       " {'Carbohydrates': 55.0, 'Protein': 12.0, 'Total Fat': 14.0},\n",
       " {'Carbohydrates': 66.0, 'Protein': 16.0, 'Total Fat': 17.0},\n",
       " {'Carbohydrates': 45.0, 'Protein': 10.0, 'Total Fat': 3.5},\n",
       " {'Carbohydrates': 56.0, 'Protein': 13.0, 'Total Fat': 3.5},\n",
       " {'Carbohydrates': 67.0, 'Protein': 17.0, 'Total Fat': 3.5},\n",
       " {'Carbohydrates': 50.0, 'Protein': 11.0, 'Total Fat': 13.0},\n",
       " {'Carbohydrates': 61.0, 'Protein': 14.0, 'Total Fat': 16.0},\n",
       " {'Carbohydrates': 73.0, 'Protein': 17.0, 'Total Fat': 20.0},\n",
       " {'Carbohydrates': 50.0, 'Protein': 12.0, 'Total Fat': 3.5},\n",
       " {'Carbohydrates': 61.0, 'Protein': 14.0, 'Total Fat': 3.5},\n",
       " {'Carbohydrates': 74.0, 'Protein': 19.0, 'Total Fat': 3.5},\n",
       " {'Carbohydrates': 23.0, 'Protein': 1.0, 'Total Fat': 4.5},\n",
       " {'Carbohydrates': 31.0, 'Protein': 1.0, 'Total Fat': 7.0},\n",
       " {'Carbohydrates': 47.0, 'Protein': 2.0, 'Total Fat': 9.0},\n",
       " {'Carbohydrates': 22.0, 'Protein': 1.0, 'Total Fat': 4.5},\n",
       " {'Carbohydrates': 29.0, 'Protein': 1.0, 'Total Fat': 7.0},\n",
       " {'Carbohydrates': 43.0, 'Protein': 2.0, 'Total Fat': 9.0},\n",
       " {'Carbohydrates': 21.0, 'Protein': 1.0, 'Total Fat': 4.5},\n",
       " {'Carbohydrates': 29.0, 'Protein': 1.0, 'Total Fat': 7.0},\n",
       " {'Carbohydrates': 43.0, 'Protein': 2.0, 'Total Fat': 9.0},\n",
       " {'Carbohydrates': 20.0, 'Protein': 1.0, 'Total Fat': 4.5},\n",
       " {'Carbohydrates': 27.0, 'Protein': 1.0, 'Total Fat': 7.0},\n",
       " {'Carbohydrates': 41.0, 'Protein': 2.0, 'Total Fat': 9.0},\n",
       " {'Carbohydrates': 9.0, 'Protein': 1.0, 'Total Fat': 4.5},\n",
       " {'Carbohydrates': 12.0, 'Protein': 1.0, 'Total Fat': 7.0},\n",
       " {'Carbohydrates': 18.0, 'Protein': 2.0, 'Total Fat': 9.0},\n",
       " {'Carbohydrates': 41.0, 'Protein': 8.0, 'Total Fat': 11.0},\n",
       " {'Carbohydrates': 50.0, 'Protein': 9.0, 'Total Fat': 13.0},\n",
       " {'Carbohydrates': 70.0, 'Protein': 14.0, 'Total Fat': 16.0},\n",
       " {'Carbohydrates': 41.0, 'Protein': 8.0, 'Total Fat': 5.0},\n",
       " {'Carbohydrates': 50.0, 'Protein': 10.0, 'Total Fat': 5.0},\n",
       " {'Carbohydrates': 71.0, 'Protein': 14.0, 'Total Fat': 6.0},\n",
       " {'Carbohydrates': 38.0, 'Protein': 8.0, 'Total Fat': 11.0},\n",
       " {'Carbohydrates': 46.0, 'Protein': 9.0, 'Total Fat': 13.0},\n",
       " {'Carbohydrates': 65.0, 'Protein': 13.0, 'Total Fat': 16.0},\n",
       " {'Carbohydrates': 38.0, 'Protein': 8.0, 'Total Fat': 5.0},\n",
       " {'Carbohydrates': 47.0, 'Protein': 10.0, 'Total Fat': 5.0},\n",
       " {'Carbohydrates': 65.0, 'Protein': 14.0, 'Total Fat': 6.0},\n",
       " {'Carbohydrates': 65.0, 'Protein': 7.0, 'Total Fat': 18.0},\n",
       " {'Carbohydrates': 80.0, 'Protein': 9.0, 'Total Fat': 22.0},\n",
       " {'Carbohydrates': 98.0, 'Protein': 11.0, 'Total Fat': 26.0},\n",
       " {'Carbohydrates': 64.0, 'Protein': 7.0, 'Total Fat': 19.0},\n",
       " {'Carbohydrates': 79.0, 'Protein': 9.0, 'Total Fat': 23.0},\n",
       " {'Carbohydrates': 96.0, 'Protein': 11.0, 'Total Fat': 27.0},\n",
       " {'Carbohydrates': 76.0, 'Protein': 8.0, 'Total Fat': 23.0},\n",
       " {'Carbohydrates': 91.0, 'Protein': 9.0, 'Total Fat': 26.0},\n",
       " {'Carbohydrates': 111.0, 'Protein': 12.0, 'Total Fat': 31.0},\n",
       " {'Carbohydrates': 50.0, 'Protein': 2.0, 'Total Fat': 0.5},\n",
       " {'Carbohydrates': 62.0, 'Protein': 3.0, 'Total Fat': 1.0},\n",
       " {'Carbohydrates': 79.0, 'Protein': 4.0, 'Total Fat': 1.0},\n",
       " {'Carbohydrates': 47.0, 'Protein': 3.0, 'Total Fat': 0.5},\n",
       " {'Carbohydrates': 58.0, 'Protein': 4.0, 'Total Fat': 1.0},\n",
       " {'Carbohydrates': 74.0, 'Protein': 5.0, 'Total Fat': 1.0},\n",
       " {'Carbohydrates': 50.0, 'Protein': 2.0, 'Total Fat': 0.5},\n",
       " {'Carbohydrates': 61.0, 'Protein': 3.0, 'Total Fat': 1.0},\n",
       " {'Carbohydrates': 78.0, 'Protein': 4.0, 'Total Fat': 1.0},\n",
       " {'Carbohydrates': 86.0, 'Protein': 11.0, 'Total Fat': 15.0},\n",
       " {'Carbohydrates': 109.0, 'Protein': 14.0, 'Total Fat': 19.0},\n",
       " {'Carbohydrates': 135.0, 'Protein': 18.0, 'Total Fat': 23.0},\n",
       " {'Carbohydrates': 90.0, 'Protein': 12.0, 'Total Fat': 16.0},\n",
       " {'Carbohydrates': 114.0, 'Protein': 15.0, 'Total Fat': 20.0},\n",
       " {'Carbohydrates': 140.0, 'Protein': 18.0, 'Total Fat': 24.0},\n",
       " {'Carbohydrates': 91.0, 'Protein': 12.0, 'Total Fat': 16.0},\n",
       " {'Carbohydrates': 114.0, 'Protein': 15.0, 'Total Fat': 20.0},\n",
       " {'Carbohydrates': 141.0, 'Protein': 19.0, 'Total Fat': 23.0},\n",
       " {'Carbohydrates': 109.0, 'Protein': 14.0, 'Total Fat': 19.0},\n",
       " {'Carbohydrates': 135.0, 'Protein': 18.0, 'Total Fat': 23.0},\n",
       " {'Carbohydrates': 96.0, 'Protein': 13.0, 'Total Fat': 23.0},\n",
       " {'Carbohydrates': 139.0, 'Protein': 20.0, 'Total Fat': 33.0},\n",
       " {'Carbohydrates': 64.0, 'Protein': 9.0, 'Total Fat': 15.0},\n",
       " {'Carbohydrates': 80.0, 'Protein': 12.0, 'Total Fat': 17.0},\n",
       " {'Carbohydrates': 106.0, 'Protein': 15.0, 'Total Fat': 23.0},\n",
       " {'Carbohydrates': 53.0, 'Protein': 8.0, 'Total Fat': 11.0},\n",
       " {'Carbohydrates': 114.0, 'Protein': 21.0, 'Total Fat': 32.0},\n",
       " {'Carbohydrates': 57.0, 'Protein': 10.0, 'Total Fat': 16.0}]"
      ]
     },
     "execution_count": 100,
     "metadata": {},
     "output_type": "execute_result"
    }
   ],
   "source": [
    "nutri_val"
   ]
  },
  {
   "cell_type": "code",
   "execution_count": 109,
   "metadata": {
    "collapsed": true
   },
   "outputs": [],
   "source": [
    "REQ = {\n",
    "    'Carbohydrates': 300,\n",
    "    'Total Fat': 70,\n",
    "    'Protein': 160\n",
    "}"
   ]
  },
  {
   "cell_type": "code",
   "execution_count": 110,
   "metadata": {},
   "outputs": [
    {
     "data": {
      "text/plain": [
       "      fun: 1.7484194955244259e-13\n",
       " hess_inv: <260x260 LbfgsInvHessProduct with dtype=float64>\n",
       "      jac: array([-1.15973772e-05, -1.04587345e-05, -1.20786713e-05, -7.98010937e-06,\n",
       "       -8.96752732e-06, -6.17568482e-06, -1.01656625e-05, -8.95778051e-06,\n",
       "       -1.04880921e-05, -9.71913697e-06, -1.31197420e-05, -1.22318605e-05,\n",
       "       -8.66010743e-06, -7.02863594e-06, -1.02521877e-05, -9.02323287e-06,\n",
       "       -1.19390977e-05, -1.09112162e-05, -5.20285750e-06, -1.00171857e-05,\n",
       "       -9.97602588e-06, -1.38712651e-05, -7.43269885e-06, -8.53764484e-06,\n",
       "        1.31611101e-06, -8.75969879e-07,  4.59140933e-06,  6.15249731e-06,\n",
       "        1.04203790e-05, -1.32271446e-06,  1.96516705e-06,  6.92649326e-05,\n",
       "        8.01728207e-05,  5.99168600e-05,  6.99247478e-05, -1.03900740e-05,\n",
       "       -7.23667624e-06, -1.27311264e-05, -1.11191545e-05, -8.27300204e-06,\n",
       "       -1.10536201e-05, -1.37859260e-05, -6.44762146e-06, -3.38873895e-06,\n",
       "        3.71639199e-06,  3.94418003e-06, -3.50654876e-06,  1.92857858e-05,\n",
       "       -1.32694583e-05, -1.25844676e-05, -8.09559676e-06,  1.02987831e-05,\n",
       "       -9.44842270e-06, -6.08915986e-06, -9.06100476e-06, -8.99993164e-06,\n",
       "       -8.25517532e-06, -5.30632379e-06, -5.36167288e-06,  7.03257080e-06,\n",
       "        4.17363618e-06,  1.96296274e-06,  3.64023328e-07,  1.22651158e-05,\n",
       "        6.14618081e-06, -9.87080107e-06, -1.34615743e-05, -8.73373213e-06,\n",
       "       -1.03726610e-05, -1.34615743e-05,  2.74930746e-06,  3.90368166e-07,\n",
       "       -1.11642835e-06, -4.34501821e-06,  5.22161161e-06, -8.33736716e-07,\n",
       "       -3.39695475e-06, -5.53588937e-06, -8.18026610e-06, -9.69522371e-06,\n",
       "       -6.89549325e-06,  3.05879375e-05,  2.37266223e-04, -1.29630621e-05,\n",
       "       -6.47486219e-06, -4.93260942e-06,  4.52845465e-06, -1.14541285e-05,\n",
       "       -8.54263787e-06, -4.95905683e-06, -1.34698264e-05, -1.13780354e-05,\n",
       "       -1.33005947e-05, -1.07888044e-05, -1.24907045e-05, -1.08085650e-05,\n",
       "       -1.59406939e-05, -1.61637210e-05, -7.12199074e-06, -1.04290889e-05,\n",
       "       -2.77598958e-06, -2.90564025e-06, -1.39387449e-05, -1.63785472e-05,\n",
       "       -1.32654501e-05, -1.32568281e-05, -5.19149722e-06, -1.29352000e-05,\n",
       "       -1.05172085e-05, -1.39813083e-05, -1.46800092e-05, -1.19025778e-05,\n",
       "       -4.87199244e-07, -1.36194937e-05,  0.00000000e+00,  0.00000000e+00,\n",
       "        0.00000000e+00,  0.00000000e+00, -1.46671883e-05, -1.25297572e-05,\n",
       "       -3.34155540e-06, -1.34030830e-05,  2.79301383e-07,  4.48952123e-07,\n",
       "        6.38602894e-07,  1.29650676e-07, -1.46671883e-05, -1.22261675e-05,\n",
       "       -1.95437524e-06, -1.34030830e-05, -6.87851138e-06, -1.04505862e-05,\n",
       "       -1.16846202e-05, -1.42186553e-05, -1.39131095e-05, -6.92807901e-06,\n",
       "        0.00000000e+00,  0.00000000e+00,  0.00000000e+00,  0.00000000e+00,\n",
       "        0.00000000e+00, -1.45011271e-05, -1.41088221e-05, -1.20965168e-05,\n",
       "       -1.34030830e-05,  0.00000000e+00,  0.00000000e+00,  0.00000000e+00,\n",
       "       -9.36194967e-06, -1.01543944e-05, -1.10043216e-05, -1.47722119e-05,\n",
       "       -1.29195313e-05, -7.44792235e-06, -1.47722119e-05, -1.29195313e-05,\n",
       "       -7.44792235e-06, -1.47993908e-05, -1.33467107e-05, -8.35510197e-06,\n",
       "       -1.27496428e-05, -1.30652601e-05, -1.30376591e-05, -7.04965129e-06,\n",
       "       -8.07599046e-06, -8.58961027e-06, -1.24163240e-05, -1.02011283e-05,\n",
       "       -4.27320998e-06, -1.24599135e-05, -1.02011269e-05, -4.27320998e-06,\n",
       "       -1.24835029e-05, -1.06683083e-05, -5.66397946e-06, -1.04373444e-05,\n",
       "       -1.11165059e-05, -1.03629474e-05, -1.35752891e-05, -9.15440130e-06,\n",
       "       -1.28992445e-06, -1.19892655e-05, -7.71048161e-06,  1.17602435e-06,\n",
       "       -1.42696476e-05, -1.14420001e-05, -4.97146536e-06, -1.30132741e-05,\n",
       "       -9.28483846e-06, -2.50675005e-06, -1.31670816e-05, -8.34619328e-06,\n",
       "        1.57621856e-08, -1.14160250e-05, -6.87724095e-06,  2.95767451e-06,\n",
       "       -1.34116151e-05, -1.57166903e-05, -1.56546403e-05, -1.30952042e-05,\n",
       "       -1.53838684e-05, -1.61889978e-05, -1.27587932e-05, -1.53838684e-05,\n",
       "       -1.61889978e-05, -1.24023831e-05, -1.49710471e-05, -1.63361769e-05,\n",
       "       -7.16186823e-06, -9.32488900e-06, -1.22787344e-05, -1.52433065e-05,\n",
       "       -1.38063832e-05, -3.45388988e-06, -1.43282075e-05, -1.24366012e-05,\n",
       "       -1.88513607e-06, -1.53140752e-05, -1.45807408e-05, -6.76148615e-06,\n",
       "       -1.43989763e-05, -1.30473691e-05, -5.44667227e-06, -8.62442303e-06,\n",
       "        2.53865621e-06,  2.20925052e-05, -9.09052938e-06,  1.85254956e-06,\n",
       "        1.99628079e-05, -7.87871576e-07,  1.35880727e-05,  4.09362286e-05,\n",
       "       -1.31949817e-05, -8.93101348e-06,  2.19965678e-06, -1.36361004e-05,\n",
       "       -1.04757227e-05, -1.40863900e-06, -1.31949817e-05, -9.39460600e-06,\n",
       "        1.39607115e-06,  8.13710792e-06,  3.65785462e-05,  8.22804147e-05,\n",
       "        1.24586037e-05,  4.43836338e-05,  9.23558537e-05,  1.35021871e-05,\n",
       "        4.43836338e-05,  9.47316124e-05,  3.65785462e-05,  8.22804147e-05,\n",
       "        1.99321751e-05,  9.36489173e-05, -8.64116304e-06,  3.14018872e-06,\n",
       "        3.32673677e-05, -1.31602328e-05,  4.97513399e-05, -1.14391551e-05])\n",
       "  message: b'CONVERGENCE: REL_REDUCTION_OF_F_<=_FACTR*EPSMCH'\n",
       "     nfev: 10440\n",
       "      nit: 34\n",
       "   status: 0\n",
       "  success: True\n",
       "        x: array([4.87282908e-02, 1.27801198e-01, 0.00000000e+00, 0.00000000e+00,\n",
       "       0.00000000e+00, 5.21045861e-02, 0.00000000e+00, 0.00000000e+00,\n",
       "       0.00000000e+00, 0.00000000e+00, 0.00000000e+00, 0.00000000e+00,\n",
       "       0.00000000e+00, 0.00000000e+00, 0.00000000e+00, 0.00000000e+00,\n",
       "       0.00000000e+00, 0.00000000e+00, 0.00000000e+00, 0.00000000e+00,\n",
       "       5.00339291e-02, 0.00000000e+00, 0.00000000e+00, 0.00000000e+00,\n",
       "       0.00000000e+00, 5.95227572e-02, 0.00000000e+00, 0.00000000e+00,\n",
       "       0.00000000e+00, 0.00000000e+00, 0.00000000e+00, 0.00000000e+00,\n",
       "       0.00000000e+00, 0.00000000e+00, 0.00000000e+00, 1.00514388e-05,\n",
       "       0.00000000e+00, 0.00000000e+00, 0.00000000e+00, 1.00884554e-07,\n",
       "       2.87164624e-05, 2.19666809e-05, 0.00000000e+00, 6.14828059e-02,\n",
       "       1.17483892e-01, 9.41663126e-02, 3.00926570e-02, 1.05306933e-01,\n",
       "       3.87458634e-02, 4.30591683e-02, 4.43402341e-02, 3.55748688e-03,\n",
       "       6.72266937e-02, 7.51139229e-02, 3.69474988e-03, 0.00000000e+00,\n",
       "       0.00000000e+00, 1.06818085e-02, 2.47457162e-01, 4.16889355e-02,\n",
       "       2.79511908e-01, 4.82950750e-02, 2.86118035e-01, 0.00000000e+00,\n",
       "       2.08646720e-01, 1.78921317e-02, 0.00000000e+00, 0.00000000e+00,\n",
       "       0.00000000e+00, 0.00000000e+00, 0.00000000e+00, 2.36340070e-01,\n",
       "       0.00000000e+00, 1.62086330e-01, 0.00000000e+00, 1.37548055e-01,\n",
       "       0.00000000e+00, 2.15019358e-01, 0.00000000e+00, 0.00000000e+00,\n",
       "       0.00000000e+00, 0.00000000e+00, 0.00000000e+00, 0.00000000e+00,\n",
       "       3.10194308e-02, 7.24523952e-02, 3.10275361e-01, 8.82932753e-03,\n",
       "       9.80725252e-03, 2.60336606e-01, 0.00000000e+00, 9.88144857e-02,\n",
       "       0.00000000e+00, 1.01957306e-01, 0.00000000e+00, 4.05205471e-02,\n",
       "       3.62013361e-08, 4.89998294e-08, 7.68284833e-08, 2.08841694e-08,\n",
       "       1.03029455e-02, 3.41234242e-06, 1.13259711e-03, 3.22191896e-08,\n",
       "       2.10385369e-08, 3.55822637e-08, 2.85219130e-09, 2.88755617e-08,\n",
       "       1.46080294e-05, 1.28960686e-05, 3.32697916e-05, 4.69185608e-05,\n",
       "       6.48322308e-05, 2.38861415e-05, 0.00000000e+00, 0.00000000e+00,\n",
       "       0.00000000e+00, 0.00000000e+00, 3.15636875e-05, 4.52124886e-05,\n",
       "       6.14201366e-05, 2.30330760e-05, 2.89867124e-02, 4.34800812e-02,\n",
       "       5.79734327e-02, 1.44933600e-02, 3.15636875e-05, 4.60655176e-05,\n",
       "       6.31261947e-05, 2.30330760e-05, 7.16096541e-02, 1.06345350e-01,\n",
       "       1.79146701e-05, 8.34324473e-05, 1.87474191e-04, 2.35305050e-04,\n",
       "       0.00000000e+00, 0.00000000e+00, 0.00000000e+00, 0.00000000e+00,\n",
       "       0.00000000e+00, 2.92590969e-05, 3.64485842e-05, 4.50265185e-05,\n",
       "       2.30330760e-05, 0.00000000e+00, 0.00000000e+00, 0.00000000e+00,\n",
       "       3.68644572e-04, 1.35061441e-02, 1.43683883e-02, 1.05646263e-08,\n",
       "       0.00000000e+00, 0.00000000e+00, 1.05646263e-08, 0.00000000e+00,\n",
       "       0.00000000e+00, 8.36264880e-09, 1.39705592e-08, 0.00000000e+00,\n",
       "       0.00000000e+00, 1.64758987e-02, 7.49561222e-04, 1.29219541e-01,\n",
       "       1.54015835e-01, 1.99350458e-01, 1.01981873e-01, 1.20492551e-01,\n",
       "       1.59541571e-01, 1.03029462e-01, 1.20492571e-01, 1.59541568e-01,\n",
       "       1.04077081e-01, 1.22587764e-01, 1.62684357e-01, 1.19791111e-01,\n",
       "       1.42492220e-01, 1.85731615e-01, 1.62759704e-08, 1.80323570e-08,\n",
       "       2.06991319e-08, 6.36220253e-02, 8.10851031e-02, 1.19086520e-01,\n",
       "       1.25093793e-08, 1.36806724e-08, 1.50745222e-08, 5.33190662e-02,\n",
       "       8.52755161e-02, 1.31725322e-01, 1.19604293e-08, 1.46251696e-08,\n",
       "       1.46277977e-08, 7.70677627e-02, 9.45308480e-02, 1.53378808e-01,\n",
       "       6.95121556e-08, 6.62209496e-08, 1.69282738e-07, 4.83025097e-08,\n",
       "       5.91794098e-08, 9.29750538e-08, 4.47798896e-08, 5.91794098e-08,\n",
       "       9.29750538e-08, 4.12569693e-08, 5.21369242e-08, 8.59388450e-08,\n",
       "       0.00000000e+00, 0.00000000e+00, 0.00000000e+00, 1.06759001e-08,\n",
       "       1.45304944e-08, 2.24144060e-08, 9.46320077e-03, 2.90214683e-02,\n",
       "       5.22888675e-02, 8.01512670e-09, 1.09893035e-08, 1.83914048e-08,\n",
       "       1.26059753e-02, 3.21642668e-02, 5.85744724e-02, 2.32670246e-08,\n",
       "       2.82354784e-08, 3.57851271e-08, 2.09673082e-08, 2.59378643e-08,\n",
       "       3.26141765e-08, 2.45836386e-08, 3.22203639e-08, 3.87707779e-08,\n",
       "       3.88648479e-05, 4.70117791e-05, 6.24125249e-05, 3.20789518e-05,\n",
       "       2.70910791e-05, 8.58341060e-05, 3.88648479e-05, 4.62824989e-05,\n",
       "       6.16832376e-05, 4.86672454e-08, 6.13687123e-08, 7.92097410e-08,\n",
       "       4.61206775e-08, 6.16186817e-08, 8.26223853e-08, 4.89407143e-08,\n",
       "       6.16186817e-08, 1.66945787e-05, 6.13687123e-08, 7.92097410e-08,\n",
       "       3.57186204e-08, 5.00170152e-08, 2.40671552e-08, 3.14689158e-08,\n",
       "       4.18986307e-08, 2.13017920e-08, 2.83931230e-08, 1.51848602e-08])"
      ]
     },
     "execution_count": 110,
     "metadata": {},
     "output_type": "execute_result"
    }
   ],
   "source": [
    "optimal_nutrition(nutri_val, REQ)"
   ]
  },
  {
   "cell_type": "code",
   "execution_count": null,
   "metadata": {},
   "outputs": [],
   "source": []
  },
  {
   "cell_type": "code",
   "execution_count": null,
   "metadata": {},
   "outputs": [],
   "source": []
  }
 ],
 "metadata": {
  "kernelspec": {
   "display_name": "Python 3",
   "language": "python",
   "name": "python3"
  },
  "language_info": {
   "codemirror_mode": {
    "name": "ipython",
    "version": 3
   },
   "file_extension": ".py",
   "mimetype": "text/x-python",
   "name": "python",
   "nbconvert_exporter": "python",
   "pygments_lexer": "ipython3",
   "version": "3.6.6"
  }
 },
 "nbformat": 4,
 "nbformat_minor": 2
}
