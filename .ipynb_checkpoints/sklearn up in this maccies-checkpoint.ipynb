{
 "cells": [
  {
   "cell_type": "code",
   "execution_count": 56,
   "metadata": {},
   "outputs": [],
   "source": [
    "from scipy.optimize import minimize\n",
    "from functools import partial"
   ]
  },
  {
   "cell_type": "code",
   "execution_count": 65,
   "metadata": {},
   "outputs": [],
   "source": [
    "CHEESEBURGER = {\n",
    "    'carbs': 36,\n",
    "    'fat': 23,\n",
    "    'protein': 26\n",
    "}\n",
    "\n",
    "NUGGETS = {\n",
    "    'carbs': 18,\n",
    "    'fat': 13,\n",
    "    'protein': 16\n",
    "}\n",
    "\n",
    "BIGMAC = {\n",
    "    'carbs': 25,\n",
    "    'fat': 25,\n",
    "    'protein': 26\n",
    "}"
   ]
  },
  {
   "cell_type": "code",
   "execution_count": 66,
   "metadata": {},
   "outputs": [],
   "source": [
    "REQUIREMENTS = {\n",
    "    'carbs': 300,\n",
    "    'fat': 70,\n",
    "    'protein': 160\n",
    "}"
   ]
  },
  {
   "cell_type": "code",
   "execution_count": 23,
   "metadata": {},
   "outputs": [],
   "source": [
    "FOODS = [CHEESEBURGER, NUGGETS, BIGMAC]"
   ]
  },
  {
   "cell_type": "code",
   "execution_count": 62,
   "metadata": {},
   "outputs": [],
   "source": [
    "def cost(quantities, requirements, foods):\n",
    "    cost = 0\n",
    "    for req in requirements:\n",
    "        total_food_macro = 0\n",
    "        for food, quant in zip(foods, quantities):\n",
    "            total_food_macro += quant * food[req] #Number of items * macros per item\n",
    "        cost += (requirements[req] - total_food_macro)**2\n",
    "    return cost"
   ]
  },
  {
   "cell_type": "code",
   "execution_count": 67,
   "metadata": {},
   "outputs": [],
   "source": [
    "def optimal_nutrition(foods, requirements):\n",
    "    quantities= [0 for i in range(len(foods))]\n",
    "    bounds = [(0, None) for i in range(len(foods))]\n",
    "    total_cost = partial(cost, requirements = requirements, foods=foods)\n",
    "    return minimize(total_cost, quantities, bounds=bounds)"
   ]
  },
  {
   "cell_type": "code",
   "execution_count": 68,
   "metadata": {},
   "outputs": [
    {
     "data": {
      "text/plain": [
       "      fun: 10717.952818929969\n",
       " hess_inv: <3x3 LbfgsInvHessProduct with dtype=float64>\n",
       "      jac: array([2.43744580e-02, 3.20716754e+02, 1.68227580e+03])\n",
       "  message: b'CONVERGENCE: REL_REDUCTION_OF_F_<=_FACTR*EPSMCH'\n",
       "     nfev: 52\n",
       "      nit: 9\n",
       "   status: 0\n",
       "  success: True\n",
       "        x: array([6.62535466, 0.        , 0.        ])"
      ]
     },
     "execution_count": 68,
     "metadata": {},
     "output_type": "execute_result"
    }
   ],
   "source": [
    "optimal_nutrition(FOODS, REQUIREMENTS)"
   ]
  },
  {
   "cell_type": "code",
   "execution_count": null,
   "metadata": {},
   "outputs": [],
   "source": []
  },
  {
   "cell_type": "code",
   "execution_count": null,
   "metadata": {},
   "outputs": [],
   "source": []
  },
  {
   "cell_type": "code",
   "execution_count": null,
   "metadata": {},
   "outputs": [],
   "source": []
  },
  {
   "cell_type": "markdown",
   "metadata": {},
   "source": [
    "Defining the function"
   ]
  },
  {
   "cell_type": "code",
   "execution_count": 2,
   "metadata": {},
   "outputs": [],
   "source": [
    "def f(params):\n",
    "    x1, x2, x3 = params\n",
    "    return(\n",
    "        (300 - (36*x1 + 18*x2 + 25*x3))**2 +\n",
    "        (70 - (23*x1 + 13*x2 + 25*x3))**2 + \n",
    "        (160-(26*x1 + 16*x2 + 26*x3))**2)"
   ]
  },
  {
   "cell_type": "markdown",
   "metadata": {},
   "source": [
    "Bounds for optimization, I aint throwing up no maccies for optimal nutrition"
   ]
  },
  {
   "cell_type": "code",
   "execution_count": 51,
   "metadata": {},
   "outputs": [],
   "source": [
    "bnds = ((0, None), (0, None), (0,None))"
   ]
  },
  {
   "cell_type": "markdown",
   "metadata": {},
   "source": [
    "Import sklearn\n",
    "????\n",
    "Fole Douce"
   ]
  },
  {
   "cell_type": "code",
   "execution_count": 4,
   "metadata": {},
   "outputs": [],
   "source": [
    "X0 = [0,0,0]\n",
    "\n",
    "result = minimize(f, X0, bounds = bnds)"
   ]
  },
  {
   "cell_type": "code",
   "execution_count": 5,
   "metadata": {},
   "outputs": [
    {
     "data": {
      "text/plain": [
       "      fun: 10717.952818929969\n",
       " hess_inv: <3x3 LbfgsInvHessProduct with dtype=float64>\n",
       "      jac: array([2.43744580e-02, 3.20716754e+02, 1.68227580e+03])\n",
       "  message: b'CONVERGENCE: REL_REDUCTION_OF_F_<=_FACTR*EPSMCH'\n",
       "     nfev: 52\n",
       "      nit: 9\n",
       "   status: 0\n",
       "  success: True\n",
       "        x: array([6.62535466, 0.        , 0.        ])"
      ]
     },
     "execution_count": 5,
     "metadata": {},
     "output_type": "execute_result"
    }
   ],
   "source": [
    "result"
   ]
  },
  {
   "cell_type": "markdown",
   "metadata": {},
   "source": [
    "As I suspected, double cheeseburgers provide optimal nutrition."
   ]
  },
  {
   "cell_type": "code",
   "execution_count": 6,
   "metadata": {},
   "outputs": [
    {
     "data": {
      "text/plain": [
       "10717.95281887245"
      ]
     },
     "execution_count": 6,
     "metadata": {},
     "output_type": "execute_result"
    }
   ],
   "source": [
    "f([6.62534983, 0.        , 0.        ])"
   ]
  },
  {
   "cell_type": "code",
   "execution_count": null,
   "metadata": {},
   "outputs": [],
   "source": []
  }
 ],
 "metadata": {
  "kernelspec": {
   "display_name": "Python 3",
   "language": "python",
   "name": "python3"
  },
  "language_info": {
   "codemirror_mode": {
    "name": "ipython",
    "version": 3
   },
   "file_extension": ".py",
   "mimetype": "text/x-python",
   "name": "python",
   "nbconvert_exporter": "python",
   "pygments_lexer": "ipython3",
   "version": "3.6.6"
  }
 },
 "nbformat": 4,
 "nbformat_minor": 2
}
