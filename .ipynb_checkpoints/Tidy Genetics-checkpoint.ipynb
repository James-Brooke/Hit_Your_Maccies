{
 "cells": [
  {
   "cell_type": "markdown",
   "metadata": {},
   "source": [
    "## Libraries"
   ]
  },
  {
   "cell_type": "code",
   "execution_count": 1,
   "metadata": {},
   "outputs": [],
   "source": [
    "import random\n",
    "import operator"
   ]
  },
  {
   "cell_type": "markdown",
   "metadata": {},
   "source": [
    "## Genetic Algorithm Functions\n",
    "\n",
    "### Fitness Function"
   ]
  },
  {
   "cell_type": "code",
   "execution_count": 2,
   "metadata": {},
   "outputs": [],
   "source": [
    "def fitness(gene, target):\n",
    "    score = ((target[0] - 36*gene[0] - 16*gene[1] - 43*gene[2] - 36*gene[3])**2 +\n",
    "             (target[1] - 23*gene[0] - 13*gene[1] - 25*gene[2]- 28*gene[3])**2 +\n",
    "             (target[2] - 26*gene[0] - 16*gene[1] - 26*gene[2]- 32*gene[3])**2)\n",
    "    return score"
   ]
  },
  {
   "cell_type": "markdown",
   "metadata": {},
   "source": [
    "### Initial Population functions"
   ]
  },
  {
   "cell_type": "code",
   "execution_count": 3,
   "metadata": {},
   "outputs": [],
   "source": [
    "def generateChild():\n",
    "    gene = []\n",
    "    for i in range(4):\n",
    "        chrom = random.randint(0,5)\n",
    "        gene.append(chrom)\n",
    "    return gene"
   ]
  },
  {
   "cell_type": "code",
   "execution_count": 4,
   "metadata": {},
   "outputs": [],
   "source": [
    "def generatePop(popSize):\n",
    "    population = []\n",
    "    i = 0\n",
    "    while i < popSize:\n",
    "        population.append(generateChild())\n",
    "        i+=1\n",
    "    #population.pop(len(population))\n",
    "    print(population)\n",
    "    return population"
   ]
  },
  {
   "cell_type": "markdown",
   "metadata": {},
   "source": [
    "### Calculation performance of genes"
   ]
  },
  {
   "cell_type": "code",
   "execution_count": 20,
   "metadata": {},
   "outputs": [],
   "source": [
    "def computePerfPopulation(population):\n",
    "    populationPerf = {}\n",
    "    for gene in population:\n",
    "        gName = str(gene)\n",
    "        populationPerf[gName] = fitness(gene, tarNut)\n",
    "    return sorted(populationPerf.items(), key = operator.itemgetter(1), reverse = False)"
   ]
  },
  {
   "cell_type": "markdown",
   "metadata": {},
   "source": [
    "### Selecting to Breed"
   ]
  },
  {
   "cell_type": "code",
   "execution_count": 6,
   "metadata": {},
   "outputs": [],
   "source": [
    "def selectFromPopulation(sPop, best_sample, lucky_few):\n",
    "    nextGeneration = []    \n",
    "    for i in range(best_sample):\n",
    "        nextGeneration.append(sPop[i][0])\n",
    "    for i in range(lucky_few):\n",
    "        nextGeneration.append(random.choice(sPop)[0])\n",
    "        random.shuffle(nextGeneration)\n",
    "    return nextGeneration"
   ]
  },
  {
   "cell_type": "code",
   "execution_count": 7,
   "metadata": {},
   "outputs": [],
   "source": [
    "def betterDestring(sortedpop):\n",
    "    i = 0\n",
    "    for i in range(len(sortedpop)):\n",
    "        sortedpop[i] = sortedpop[i].replace(\"[\", \"\")\n",
    "        sortedpop[i] = sortedpop[i].replace(\"]\", \"\")\n",
    "        sortedpop[i] = sortedpop[i].split(\",\")\n",
    "        sortedpop[i] = list(map(int, sortedpop[i]))\n",
    "        i += 1\n",
    "\n",
    "    return sortedpop"
   ]
  },
  {
   "cell_type": "markdown",
   "metadata": {},
   "source": [
    "### Breeding"
   ]
  },
  {
   "cell_type": "code",
   "execution_count": 8,
   "metadata": {},
   "outputs": [],
   "source": [
    "def createChild(parent1, parent2):\n",
    "    child = []\n",
    "    for i in range(len(parent1)):\n",
    "        if(int(100*random.random()) < 50):\n",
    "            child.append(parent1[i])\n",
    "        else:\n",
    "            child.append(parent2[i])\n",
    "    return child"
   ]
  },
  {
   "cell_type": "code",
   "execution_count": 9,
   "metadata": {},
   "outputs": [],
   "source": [
    "def createChildren(breeders, number_of_child):\n",
    "    nextPopulation = []\n",
    "    for i in range(int(len(breeders)/2)):\n",
    "        for j in range(number_of_child):\n",
    "            nextPopulation.append(createChild(breeders[i],breeders[len(breeders) -1 -i]))\n",
    "    return nextPopulation"
   ]
  },
  {
   "cell_type": "markdown",
   "metadata": {},
   "source": [
    "### Mutation"
   ]
  },
  {
   "cell_type": "code",
   "execution_count": 10,
   "metadata": {},
   "outputs": [],
   "source": [
    "def mutate(gene):\n",
    "    index_mod = random.randint(0, 3)\n",
    "    gene[index_mod] = random.randint(0,5)\n",
    "    return gene"
   ]
  },
  {
   "cell_type": "code",
   "execution_count": 11,
   "metadata": {},
   "outputs": [],
   "source": [
    "def mutatePopulation(population, chance_of_mutation):\n",
    "    for i  in range(len(population)):\n",
    "        if random.random()*100 < chance_of_mutation:\n",
    "            population[i] = mutate(population[i])\n",
    "        return population"
   ]
  },
  {
   "cell_type": "markdown",
   "metadata": {},
   "source": [
    "# Creating Multiple Generations"
   ]
  },
  {
   "cell_type": "code",
   "execution_count": 12,
   "metadata": {},
   "outputs": [],
   "source": [
    "def nextGeneration(firstGeneration, best_sample, lucky_few, number_of_child, chance_of_mutation):\n",
    "    populationSorted = computePerfPopulation(firstGeneration)\n",
    "    nextBreeders = selectFromPopulation(populationSorted, best_sample, lucky_few)\n",
    "    destringBreeders = betterDestring(nextBreeders)\n",
    "    nextPopulation = createChildren(destringBreeders, number_of_child)\n",
    "    nextGeneration = mutatePopulation(nextPopulation, chance_of_mutation)\n",
    "    \n",
    "    return nextGeneration"
   ]
  },
  {
   "cell_type": "code",
   "execution_count": 13,
   "metadata": {},
   "outputs": [],
   "source": [
    "def multipleGeneration(number_of_generation, popSize, best_sample, lucky_few, number_of_child, chance_of_mutation):\n",
    "    historic = []\n",
    "    historicBest = []\n",
    "    initialpop = generatePop(popSize)\n",
    "    historic.append(initialpop)\n",
    "    historicBest.append(getBestIndividualFromPopulation(initialpop))\n",
    "    for i in range (number_of_generation):\n",
    "        historic.append(nextGeneration(historic[i], best_sample, lucky_few, number_of_child, chance_of_mutation))\n",
    "    return historic\n",
    "    return historicBest\n"
   ]
  },
  {
   "cell_type": "markdown",
   "metadata": {},
   "source": [
    "# Analysis"
   ]
  },
  {
   "cell_type": "code",
   "execution_count": 14,
   "metadata": {},
   "outputs": [],
   "source": [
    "def getBestIndividualFromPopulation(population):\n",
    "    return(computePerfPopulation(population)[0])"
   ]
  },
  {
   "cell_type": "code",
   "execution_count": 15,
   "metadata": {},
   "outputs": [],
   "source": [
    "def storeBestHistoric(historic):\n",
    "    historicBest = []\n",
    "    historicBestScore = []\n",
    "    for population in historic:\n",
    "        historicBest.append(getBestIndividualFromPopulation(population))\n",
    "    for i in historicBest:\n",
    "        historicBestScore.append(i[1])\n",
    "    return historicBest, historicBestScore"
   ]
  },
  {
   "cell_type": "markdown",
   "metadata": {},
   "source": [
    "### Graphing"
   ]
  },
  {
   "cell_type": "code",
   "execution_count": 16,
   "metadata": {},
   "outputs": [],
   "source": [
    "import matplotlib.pyplot as plt"
   ]
  },
  {
   "cell_type": "code",
   "execution_count": 17,
   "metadata": {},
   "outputs": [],
   "source": [
    "def PlotCost(history):\n",
    "    plt.figure(figsize = (30,15))\n",
    "    plt.plot(history)\n",
    "    plt.show()"
   ]
  },
  {
   "cell_type": "markdown",
   "metadata": {},
   "source": [
    "# Initiate"
   ]
  },
  {
   "cell_type": "code",
   "execution_count": 18,
   "metadata": {},
   "outputs": [],
   "source": [
    "tarNut = [300, 80, 200]"
   ]
  },
  {
   "cell_type": "code",
   "execution_count": 19,
   "metadata": {},
   "outputs": [
    {
     "name": "stdout",
     "output_type": "stream",
     "text": [
      "[[3, 3, 2, 0], [3, 4, 0, 1], [1, 2, 1, 0], [3, 1, 1, 5], [2, 5, 1, 4], [2, 1, 2, 3], [3, 3, 1, 0], [2, 4, 4, 4], [3, 2, 5, 0], [1, 2, 4, 4], [1, 2, 2, 1], [3, 3, 2, 3], [0, 3, 4, 4], [0, 3, 2, 0], [2, 4, 0, 2], [2, 0, 5, 2], [2, 0, 3, 4], [4, 1, 5, 0], [4, 0, 5, 3], [3, 3, 1, 5], [3, 0, 5, 2], [0, 0, 1, 1], [1, 1, 2, 3], [4, 5, 4, 3], [5, 0, 5, 4], [5, 5, 1, 2], [0, 0, 2, 0], [0, 0, 3, 3], [2, 0, 3, 0], [2, 1, 5, 4], [4, 4, 2, 2], [5, 0, 3, 0], [0, 1, 4, 0], [4, 2, 5, 0], [3, 3, 3, 5], [0, 0, 4, 1], [2, 5, 2, 0], [2, 1, 2, 0], [5, 2, 3, 5], [1, 5, 5, 1], [3, 0, 0, 3], [1, 3, 3, 0], [4, 1, 4, 0], [2, 1, 4, 1], [4, 0, 5, 5], [5, 5, 1, 0], [0, 3, 5, 4], [0, 4, 4, 5], [4, 3, 2, 5], [5, 0, 0, 3], [2, 1, 0, 4], [1, 4, 0, 3], [5, 0, 2, 0], [4, 2, 3, 0], [5, 3, 3, 2], [1, 2, 2, 5], [3, 5, 1, 0], [2, 2, 2, 4], [4, 5, 0, 0], [2, 4, 1, 2], [5, 3, 3, 0], [2, 1, 5, 0], [1, 0, 5, 2], [2, 1, 3, 3], [0, 3, 5, 1], [0, 1, 4, 5], [3, 3, 2, 3], [4, 2, 1, 3], [1, 2, 1, 3], [4, 0, 5, 4], [2, 5, 1, 2], [4, 2, 3, 2], [3, 1, 4, 1], [2, 3, 4, 0], [5, 4, 5, 1], [2, 2, 5, 5], [0, 0, 5, 2], [3, 5, 0, 5], [3, 1, 4, 1], [1, 0, 0, 2], [5, 1, 5, 4], [3, 0, 1, 5], [1, 0, 0, 2], [3, 0, 0, 3], [0, 5, 2, 0], [4, 5, 0, 5], [4, 5, 3, 2], [4, 3, 3, 0], [1, 0, 1, 4], [0, 4, 0, 1], [4, 2, 3, 0], [1, 5, 1, 3], [3, 4, 0, 2], [5, 1, 4, 5], [3, 0, 0, 5], [1, 3, 3, 3], [2, 0, 5, 0], [5, 2, 0, 0], [3, 2, 0, 5], [1, 4, 2, 4]]\n"
     ]
    },
    {
     "data": {
      "image/png": "[encoded data removed]",
      "text/plain": [
       "<Figure size 2160x1080 with 1 Axes>"
      ]
     },
     "metadata": {
      "needs_background": "light"
     },
     "output_type": "display_data"
    }
   ],
   "source": [
    "history = multipleGeneration(500, 100, 20, 5, 8, 0.1)\n",
    "historicBest, historicBestScore = storeBestHistoric(history)\n",
    "PlotCost(historicBestScore)"
   ]
  },
  {
   "cell_type": "code",
   "execution_count": null,
   "metadata": {},
   "outputs": [],
   "source": []
  },
  {
   "cell_type": "code",
   "execution_count": null,
   "metadata": {},
   "outputs": [],
   "source": []
  },
  {
   "cell_type": "code",
   "execution_count": 21,
   "metadata": {},
   "outputs": [],
   "source": [
    "import pandas as pd"
   ]
  },
  {
   "cell_type": "code",
   "execution_count": 42,
   "metadata": {},
   "outputs": [],
   "source": [
    "df = pd.read_excel(r\"C:\\Users\\James\\Desktop\\maccies.xlsx\")"
   ]
  },
  {
   "cell_type": "code",
   "execution_count": 44,
   "metadata": {},
   "outputs": [
    {
     "data": {
      "text/html": [
       "<div>\n",
       "<style scoped>\n",
       "    .dataframe tbody tr th:only-of-type {\n",
       "        vertical-align: middle;\n",
       "    }\n",
       "\n",
       "    .dataframe tbody tr th {\n",
       "        vertical-align: top;\n",
       "    }\n",
       "\n",
       "    .dataframe thead th {\n",
       "        text-align: right;\n",
       "    }\n",
       "</style>\n",
       "<table border=\"1\" class=\"dataframe\">\n",
       "  <thead>\n",
       "    <tr style=\"text-align: right;\">\n",
       "      <th></th>\n",
       "      <th>Name</th>\n",
       "      <th>Carbohydrate (g)</th>\n",
       "      <th>Energy (kJ)</th>\n",
       "      <th>Energy (kcal)</th>\n",
       "      <th>Fat (g)</th>\n",
       "      <th>Fibre (g)</th>\n",
       "      <th>Protein (g)</th>\n",
       "      <th>Salt (g)</th>\n",
       "      <th>Saturated Fat</th>\n",
       "      <th>of which saturated (g)</th>\n",
       "      <th>of which sugars (g)</th>\n",
       "    </tr>\n",
       "  </thead>\n",
       "  <tbody>\n",
       "    <tr>\n",
       "      <th>0</th>\n",
       "      <td>Breakfast Wrap</td>\n",
       "      <td>53.0</td>\n",
       "      <td>2531.0</td>\n",
       "      <td>605.0</td>\n",
       "      <td>31.0</td>\n",
       "      <td>4.0</td>\n",
       "      <td>27.0</td>\n",
       "      <td>2.5</td>\n",
       "      <td>10.0g</td>\n",
       "      <td>10.0</td>\n",
       "      <td>7.2</td>\n",
       "    </tr>\n",
       "  </tbody>\n",
       "</table>\n",
       "</div>"
      ],
      "text/plain": [
       "             Name  Carbohydrate (g)  Energy (kJ)  Energy (kcal)  Fat (g)  \\\n",
       "0  Breakfast Wrap              53.0       2531.0          605.0     31.0   \n",
       "\n",
       "   Fibre (g)  Protein (g)  Salt (g) Saturated Fat  of which saturated (g)  \\\n",
       "0        4.0         27.0       2.5         10.0g                    10.0   \n",
       "\n",
       "   of which sugars (g)  \n",
       "0                  7.2  "
      ]
     },
     "execution_count": 44,
     "metadata": {},
     "output_type": "execute_result"
    }
   ],
   "source": [
    "df.head(1)"
   ]
  },
  {
   "cell_type": "code",
   "execution_count": 65,
   "metadata": {},
   "outputs": [],
   "source": [
    "FOODS = [row.to_dict() for _, row in df.iterrows()]"
   ]
  },
  {
   "cell_type": "code",
   "execution_count": 46,
   "metadata": {},
   "outputs": [],
   "source": [
    "def fitness(quantities, requirements, foods):\n",
    "    cost = 0\n",
    "    for req in requirements:\n",
    "        total_food_macro = 0\n",
    "        for food, quant in zip(foods, quantities):\n",
    "            total_food_macro += quant * food[req] #Number of items * macros per item\n",
    "        cost += (requirements[req] - total_food_macro)**2\n",
    "    return cost"
   ]
  },
  {
   "cell_type": "code",
   "execution_count": 86,
   "metadata": {},
   "outputs": [],
   "source": [
    "REQUIREMENTS = {\n",
    "    'Carbohydrate (g)': 300,\n",
    "    'Fat (g)': 70,\n",
    "    'Protein (g)': 150\n",
    "}"
   ]
  },
  {
   "cell_type": "code",
   "execution_count": 87,
   "metadata": {},
   "outputs": [
    {
     "data": {
      "text/plain": [
       "117400.0"
      ]
     },
     "execution_count": 87,
     "metadata": {},
     "output_type": "execute_result"
    }
   ],
   "source": [
    "quantities = [0 for i in range(len(FOODS))]\n",
    "fitness(quantities, REQUIREMENTS, FOODS)"
   ]
  },
  {
   "cell_type": "code",
   "execution_count": null,
   "metadata": {},
   "outputs": [],
   "source": []
  },
  {
   "cell_type": "code",
   "execution_count": null,
   "metadata": {},
   "outputs": [],
   "source": []
  },
  {
   "cell_type": "code",
   "execution_count": null,
   "metadata": {},
   "outputs": [],
   "source": []
  },
  {
   "cell_type": "code",
   "execution_count": null,
   "metadata": {},
   "outputs": [],
   "source": [
    "while len(self.children) < self.population_sz:\n",
    "    pop = range(len(self.population)) \n",
    "    sel_k = random.sample(pop, k=tournament_size) #select random tournament\n",
    "    fitness_k = list(np.array()[sel_k]) #get fitness of each combatent\n",
    "    selected = zip(sel_k, fitness_k) #create tuples of selected, fitness\n",
    "    rank = sorted(selected, key=itemgetter(1), reverse=True) #sort by fitness\n",
    "    pick = np.random.choice(tournament_size, size=1, p=probs)[0] #pick a winner\n",
    "    best = rank[pick][0] #isolate the winner\n",
    "    genome = self.mutate_fn(best) #mutate the winner\n",
    "    self.children.append(genome)"
   ]
  },
  {
   "cell_type": "code",
   "execution_count": null,
   "metadata": {},
   "outputs": [],
   "source": [
    "class TournamentOptimizer:\n",
    "    \"\"\"Define a tournament play selection process.\"\"\"\n",
    "\n",
    "    def __init__(self, population_sz, init_fn, mutate_fn, builder_fn, n_elite):\n",
    "        \n",
    "        self.init_fn = init_fn\n",
    "        self.mutate_fn = mutate_fn\n",
    "        self.builder_fn = builder_fn\n",
    "        self.population_sz = population_sz\n",
    "        self.n_elite = n_elite\n",
    "        \n",
    "        self.genomes = []   \n",
    "        self.population = []\n",
    "        self.test_results = {} \n",
    "        self.genome_history = {} \n",
    "        self.generation = 0\n",
    "        \n",
    "    def fitness(self, population):\n",
    "        #TODO\n",
    "        \n",
    "\n",
    "    def step(self, generations=1, epochs=5,):\n",
    "        \"\"\"Tournament evolution step.\n",
    "            Args: \n",
    "            :generations: number of generations.\n",
    "            :epochs: number of epochs to train each individual network. \n",
    "        \"\"\"\n",
    "\n",
    "        for _ in tnrange(generations, desc='Overall progress'): #tqdm progress bar\n",
    "            self.generation += 1\n",
    "            self.genome_history[self.generation] = self.genomes\n",
    "            self.population = [#TODO]\n",
    "            self.children = []\n",
    "\n",
    "            sorted_pop = np.argsort()[::-1]\n",
    "            elite = sorted_pop[:self.n_elite]\n",
    "            \n",
    "            # elites always included in the next population\n",
    "            self.elite = []\n",
    "            print('\\nTop performers:')\n",
    "            for no, i in enumerate(elite):\n",
    "                self.elite.append((self.test_results[self.generation]['correct'][i], \n",
    "                                   self.population[i]))    \n",
    "\n",
    "                self.children.append(self.genomes[i])\n",
    "\n",
    "                tqdm.write(\"{}: score:{}\".format(no,\n",
    "                            self.test_results[self.generation]['correct'][i]))   \n",
    "\n",
    "\n",
    "            #https://stackoverflow.com/questions/31933784/tournament-selection-in-genetic-algorithm\n",
    "            p = 0.85 # winner probability \n",
    "            tournament_size = 3\n",
    "            probs = [p*((1-p)**i) for i in range(tournament_size-1)]\n",
    "            probs.append(1-np.sum(probs))\n",
    "            #probs = [0.85, 0.1275, 0.0224]\n",
    "\n",
    "            while len(self.children) < self.population_sz:\n",
    "                pop = range(len(self.population))\n",
    "                sel_k = random.sample(pop, k=tournament_size)\n",
    "                fitness_k = list(np.array()[sel_k])\n",
    "                selected = zip(sel_k, fitness_k)\n",
    "                rank = sorted(selected, key=itemgetter(1), reverse=True)\n",
    "                pick = np.random.choice(tournament_size, size=1, p=probs)[0]\n",
    "                best = rank[pick][0]\n",
    "                genome = self.mutate_fn(self.genomes[best], self.layer_space, self.net_space)\n",
    "                self.children.append(genome)\n",
    "                \n",
    "            self.genomes = self.children"
   ]
  }
 ],
 "metadata": {
  "kernelspec": {
   "display_name": "Python 3",
   "language": "python",
   "name": "python3"
  },
  "language_info": {
   "codemirror_mode": {
    "name": "ipython",
    "version": 3
   },
   "file_extension": ".py",
   "mimetype": "text/x-python",
   "name": "python",
   "nbconvert_exporter": "python",
   "pygments_lexer": "ipython3",
   "version": "3.6.6"
  }
 },
 "nbformat": 4,
 "nbformat_minor": 2
}
