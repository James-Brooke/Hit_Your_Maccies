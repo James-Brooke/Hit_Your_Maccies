{
 "cells": [
  {
   "cell_type": "markdown",
   "metadata": {},
   "source": [
    "## Genetic attempt"
   ]
  },
  {
   "cell_type": "code",
   "execution_count": 16,
   "metadata": {
    "collapsed": true
   },
   "outputs": [],
   "source": [
    "import random\n",
    "import operator"
   ]
  },
  {
   "cell_type": "markdown",
   "metadata": {},
   "source": [
    "### Fitness Function"
   ]
  },
  {
   "cell_type": "markdown",
   "metadata": {},
   "source": [
    "#### Currently using 4 items in optimisation\n",
    "- DoubleCheese - carbs 36 fat 23 protein 26\n",
    "- 6 Nuggets - carbs 18 fat 13 protein 16\n",
    "- Big Mac - carbs 43 fat 25 protein 26\n",
    "- triple cheese - carbs 35, fat 28, pro 32"
   ]
  },
  {
   "cell_type": "code",
   "execution_count": 17,
   "metadata": {
    "collapsed": true
   },
   "outputs": [],
   "source": [
    "tarNut = [300, 80, 160]\n",
    "# Target refers to target Carbs, Fats Proteins"
   ]
  },
  {
   "cell_type": "code",
   "execution_count": 18,
   "metadata": {
    "collapsed": true
   },
   "outputs": [],
   "source": [
    "def fitness(gene, target):\n",
    "    score = ((target[0] - 36*gene[0] - 16*gene[1] - 43*gene[2] - 36*gene[3])**2 +\n",
    "             (target[1] - 23*gene[0] - 13*gene[1] - 25*gene[2]- 28*gene[3])**2 +\n",
    "             (target[2] - 26*gene[0] - 16*gene[1] - 26*gene[2]- 32*gene[3])**2)\n",
    "    return score"
   ]
  },
  {
   "cell_type": "code",
   "execution_count": 19,
   "metadata": {
    "collapsed": true
   },
   "outputs": [],
   "source": [
    "solution = [6,0,0,0]\n",
    "\n"
   ]
  },
  {
   "cell_type": "code",
   "execution_count": 20,
   "metadata": {},
   "outputs": [
    {
     "name": "stdout",
     "output_type": "stream",
     "text": [
      "10436\n"
     ]
    }
   ],
   "source": [
    "print(fitness(solution, tarNut))"
   ]
  },
  {
   "cell_type": "markdown",
   "metadata": {},
   "source": [
    "## Population generation"
   ]
  },
  {
   "cell_type": "code",
   "execution_count": 21,
   "metadata": {
    "collapsed": true
   },
   "outputs": [],
   "source": [
    "def generateChild():\n",
    "    gene = []\n",
    "    for i in range(4):\n",
    "        chrom = random.randint(0,5)\n",
    "        gene.append(chrom)\n",
    "    return gene"
   ]
  },
  {
   "cell_type": "code",
   "execution_count": 22,
   "metadata": {
    "collapsed": true
   },
   "outputs": [],
   "source": [
    "def generatePop(popSize):\n",
    "    population = []\n",
    "    i = 0\n",
    "    while i < popSize:\n",
    "        population.append(generateChild())\n",
    "        i+=1\n",
    "    #population.pop(len(population))\n",
    "    print(population)\n",
    "    return population"
   ]
  },
  {
   "cell_type": "code",
   "execution_count": 23,
   "metadata": {},
   "outputs": [
    {
     "name": "stdout",
     "output_type": "stream",
     "text": [
      "[[1, 4, 4, 1], [3, 5, 5, 2], [5, 1, 5, 4], [0, 4, 5, 5], [2, 2, 3, 4], [2, 2, 2, 1], [5, 3, 0, 4], [2, 5, 4, 2], [2, 3, 1, 5], [0, 3, 0, 2], [1, 1, 5, 0], [5, 2, 5, 1], [3, 5, 0, 4], [1, 5, 5, 1], [0, 4, 0, 2], [2, 5, 3, 5], [4, 0, 3, 0], [1, 1, 3, 0], [0, 0, 3, 1], [3, 2, 4, 3], [3, 1, 5, 3], [0, 1, 1, 5], [5, 4, 0, 4], [3, 0, 3, 4], [4, 2, 4, 4], [4, 1, 3, 0], [2, 5, 1, 1], [5, 0, 5, 4], [2, 2, 5, 2], [1, 3, 4, 4], [4, 4, 2, 3], [3, 3, 2, 5], [4, 4, 0, 3], [5, 2, 4, 3], [0, 4, 0, 4], [4, 5, 2, 3], [1, 5, 4, 2], [1, 4, 1, 2], [5, 3, 3, 1], [5, 5, 5, 5], [5, 2, 3, 2], [5, 1, 5, 1], [4, 4, 2, 1], [2, 5, 2, 3], [5, 0, 5, 3], [0, 3, 1, 5], [4, 0, 5, 0], [0, 5, 3, 1], [5, 1, 5, 2], [3, 3, 1, 4], [4, 4, 1, 3], [3, 2, 5, 5], [3, 0, 1, 0], [0, 4, 4, 3], [5, 5, 1, 4], [1, 1, 3, 2], [0, 0, 2, 5], [1, 5, 3, 2], [3, 4, 5, 4], [1, 2, 2, 3], [2, 2, 1, 5], [0, 1, 0, 3], [0, 5, 3, 2], [3, 4, 2, 5], [0, 1, 3, 4], [2, 5, 2, 5], [0, 5, 3, 0], [2, 3, 4, 3], [1, 2, 2, 1], [3, 5, 2, 3], [5, 0, 2, 1], [1, 4, 4, 4], [1, 0, 0, 0], [0, 2, 3, 0], [5, 1, 0, 3], [1, 2, 0, 1], [1, 3, 0, 2], [5, 4, 1, 5], [0, 0, 5, 2], [3, 2, 0, 1], [3, 5, 2, 0], [3, 3, 2, 4], [3, 3, 3, 5], [5, 5, 0, 4], [1, 2, 4, 0], [0, 0, 5, 4], [4, 5, 0, 3], [2, 0, 3, 0], [1, 2, 2, 4], [2, 3, 2, 2], [1, 1, 5, 0], [2, 1, 0, 2], [2, 1, 2, 3], [0, 3, 1, 1], [5, 5, 4, 3], [0, 5, 4, 1], [2, 1, 3, 2], [0, 3, 3, 5], [4, 0, 0, 1], [2, 1, 2, 2]]\n"
     ]
    }
   ],
   "source": [
    "population = generatePop(100)"
   ]
  },
  {
   "cell_type": "markdown",
   "metadata": {},
   "source": [
    "Assesing performance of each "
   ]
  },
  {
   "cell_type": "markdown",
   "metadata": {},
   "source": [
    "## Calculating performance of genes"
   ]
  },
  {
   "cell_type": "code",
   "execution_count": 24,
   "metadata": {
    "collapsed": true
   },
   "outputs": [],
   "source": [
    "def computePerfPopulation(pop):\n",
    "    populationPerf = {}\n",
    "    for gene in population:\n",
    "        gName = str(gene)\n",
    "        populationPerf[gName] = fitness(gene, tarNut)\n",
    "    return sorted(populationPerf.items(), key = operator.itemgetter(1), reverse = False)\n"
   ]
  },
  {
   "cell_type": "code",
   "execution_count": 25,
   "metadata": {},
   "outputs": [],
   "source": [
    "sortedpop = computePerfPopulation(population)"
   ]
  },
  {
   "cell_type": "code",
   "execution_count": 26,
   "metadata": {
    "scrolled": true
   },
   "outputs": [
    {
     "data": {
      "text/plain": [
       "[('[1, 1, 5, 0]', 7794),\n",
       " ('[1, 2, 4, 0]', 8365),\n",
       " ('[4, 0, 3, 0]', 8782),\n",
       " ('[1, 1, 3, 2]', 10354),\n",
       " ('[2, 2, 2, 1]', 10440),\n",
       " ('[2, 1, 2, 2]', 10717),\n",
       " ('[0, 0, 5, 2]', 11526),\n",
       " ('[4, 1, 3, 0]', 11565),\n",
       " ('[0, 5, 3, 1]', 11669),\n",
       " ('[0, 5, 3, 0]', 11885),\n",
       " ('[2, 0, 3, 0]', 12382),\n",
       " ('[2, 5, 1, 1]', 12717),\n",
       " ('[1, 4, 1, 2]', 13401),\n",
       " ('[3, 5, 2, 0]', 13992),\n",
       " ('[1, 2, 2, 3]', 14169),\n",
       " ('[1, 2, 2, 1]', 14633),\n",
       " ('[2, 1, 3, 2]', 14721),\n",
       " ('[0, 1, 1, 5]', 15089),\n",
       " ('[5, 0, 2, 1]', 15689),\n",
       " ('[2, 3, 2, 2]', 15941),\n",
       " ('[0, 0, 2, 5]', 15960),\n",
       " ('[0, 5, 4, 1]', 16049),\n",
       " ('[2, 1, 2, 3]', 16229),\n",
       " ('[0, 4, 0, 4]', 16544),\n",
       " ('[4, 0, 0, 1]', 16576),\n",
       " ('[1, 1, 3, 0]', 16722),\n",
       " ('[3, 2, 0, 1]', 17549),\n",
       " ('[0, 5, 3, 2]', 17661),\n",
       " ('[0, 1, 3, 4]', 18365),\n",
       " ('[1, 4, 4, 1]', 19549),\n",
       " ('[0, 0, 3, 1]', 21254),\n",
       " ('[2, 1, 0, 2]', 21609),\n",
       " ('[0, 3, 1, 5]', 21693),\n",
       " ('[0, 2, 3, 0]', 22262),\n",
       " ('[1, 3, 0, 2]', 22664),\n",
       " ('[1, 2, 2, 4]', 23249),\n",
       " ('[5, 1, 0, 3]', 24164),\n",
       " ('[3, 0, 1, 0]', 25533),\n",
       " ('[1, 5, 3, 2]', 27354),\n",
       " ('[4, 0, 5, 0]', 27726),\n",
       " ('[0, 4, 0, 2]', 28704),\n",
       " ('[4, 4, 2, 1]', 29528),\n",
       " ('[4, 4, 0, 3]', 32976),\n",
       " ('[0, 3, 1, 1]', 32989),\n",
       " ('[0, 1, 0, 3]', 33569),\n",
       " ('[0, 3, 0, 2]', 34929),\n",
       " ('[0, 4, 4, 3]', 37088),\n",
       " ('[2, 2, 1, 5]', 37478),\n",
       " ('[0, 0, 5, 4]', 37734),\n",
       " ('[4, 5, 0, 3]', 41345),\n",
       " ('[1, 5, 5, 1]', 42074),\n",
       " ('[1, 2, 0, 1]', 43325),\n",
       " ('[3, 3, 1, 4]', 43474),\n",
       " ('[1, 5, 4, 2]', 43492),\n",
       " ('[2, 5, 2, 3]', 43741),\n",
       " ('[3, 5, 0, 4]', 44456),\n",
       " ('[2, 3, 1, 5]', 46625),\n",
       " ('[0, 3, 3, 5]', 49401),\n",
       " ('[4, 4, 1, 3]', 50310),\n",
       " ('[2, 2, 5, 2]', 52134),\n",
       " ('[3, 0, 3, 4]', 52913),\n",
       " ('[2, 2, 3, 4]', 54870),\n",
       " ('[5, 3, 3, 1]', 56362),\n",
       " ('[5, 3, 0, 4]', 61096),\n",
       " ('[3, 5, 2, 3]', 63384),\n",
       " ('[2, 5, 4, 2]', 63785),\n",
       " ('[3, 3, 2, 4]', 64812),\n",
       " ('[2, 3, 4, 3]', 65321),\n",
       " ('[1, 3, 4, 4]', 68952),\n",
       " ('[5, 2, 3, 2]', 70369),\n",
       " ('[5, 4, 0, 4]', 73589),\n",
       " ('[4, 4, 2, 3]', 73944),\n",
       " ('[3, 2, 4, 3]', 76501),\n",
       " ('[1, 4, 4, 4]', 82549),\n",
       " ('[5, 1, 5, 1]', 83914),\n",
       " ('[5, 5, 0, 4]', 87444),\n",
       " ('[4, 5, 2, 3]', 88029),\n",
       " ('[1, 0, 0, 0]', 90901),\n",
       " ('[3, 1, 5, 3]', 91730),\n",
       " ('[3, 3, 2, 5]', 94092),\n",
       " ('[2, 5, 2, 5]', 96621),\n",
       " ('[5, 2, 5, 1]', 99261),\n",
       " ('[3, 4, 2, 5]', 110041),\n",
       " ('[5, 1, 5, 2]', 118330),\n",
       " ('[0, 4, 5, 5]', 119086),\n",
       " ('[5, 5, 1, 4]', 119394),\n",
       " ('[3, 5, 5, 2]', 122714),\n",
       " ('[3, 3, 3, 5]', 127890),\n",
       " ('[2, 5, 3, 5]', 130537),\n",
       " ('[5, 2, 4, 3]', 137693),\n",
       " ('[5, 0, 5, 3]', 139161),\n",
       " ('[5, 4, 1, 5]', 139793),\n",
       " ('[4, 2, 4, 4]', 142628),\n",
       " ('[5, 0, 5, 4]', 183089),\n",
       " ('[3, 4, 5, 4]', 188245),\n",
       " ('[3, 2, 5, 5]', 191225),\n",
       " ('[5, 5, 4, 3]', 200756),\n",
       " ('[5, 1, 5, 4]', 205786),\n",
       " ('[5, 5, 5, 5]', 374850)]"
      ]
     },
     "execution_count": 26,
     "metadata": {},
     "output_type": "execute_result"
    }
   ],
   "source": [
    "sortedpop"
   ]
  },
  {
   "cell_type": "markdown",
   "metadata": {},
   "source": [
    "### Selecting population to breed"
   ]
  },
  {
   "cell_type": "code",
   "execution_count": 27,
   "metadata": {
    "collapsed": true
   },
   "outputs": [],
   "source": [
    "def selectFromPopulation(sPop, best_sample, lucky_few):\n",
    "    nextGeneration = []    \n",
    "    for i in range(best_sample):\n",
    "        nextGeneration.append(sPop[i][0])\n",
    "    for i in range(lucky_few):\n",
    "        nextGeneration.append(random.choice(sPop)[0])\n",
    "        random.shuffle(nextGeneration)\n",
    "    return nextGeneration"
   ]
  },
  {
   "cell_type": "code",
   "execution_count": 28,
   "metadata": {},
   "outputs": [],
   "source": [
    "secondGen = selectFromPopulation(sortedpop, 25, 25)"
   ]
  },
  {
   "cell_type": "code",
   "execution_count": 29,
   "metadata": {
    "scrolled": true
   },
   "outputs": [
    {
     "data": {
      "text/plain": [
       "['[0, 4, 5, 5]',\n",
       " '[4, 4, 2, 1]',\n",
       " '[3, 4, 5, 4]',\n",
       " '[2, 2, 2, 1]',\n",
       " '[2, 1, 3, 2]',\n",
       " '[5, 0, 2, 1]',\n",
       " '[1, 2, 2, 1]',\n",
       " '[2, 1, 3, 2]',\n",
       " '[3, 0, 3, 4]',\n",
       " '[1, 1, 5, 0]',\n",
       " '[5, 1, 5, 1]',\n",
       " '[4, 0, 3, 0]',\n",
       " '[3, 5, 2, 0]',\n",
       " '[2, 1, 2, 3]',\n",
       " '[2, 1, 2, 2]',\n",
       " '[2, 3, 1, 5]',\n",
       " '[1, 1, 3, 2]',\n",
       " '[1, 5, 3, 2]',\n",
       " '[0, 0, 5, 2]',\n",
       " '[0, 4, 0, 4]',\n",
       " '[4, 4, 2, 1]',\n",
       " '[1, 1, 3, 0]',\n",
       " '[0, 0, 2, 5]',\n",
       " '[4, 0, 0, 1]',\n",
       " '[2, 5, 2, 3]',\n",
       " '[1, 2, 2, 3]',\n",
       " '[0, 0, 5, 4]',\n",
       " '[1, 4, 1, 2]',\n",
       " '[5, 2, 4, 3]',\n",
       " '[4, 0, 5, 0]',\n",
       " '[3, 2, 4, 3]',\n",
       " '[4, 1, 3, 0]',\n",
       " '[2, 0, 3, 0]',\n",
       " '[2, 3, 2, 2]',\n",
       " '[2, 3, 4, 3]',\n",
       " '[0, 5, 3, 0]',\n",
       " '[5, 5, 4, 3]',\n",
       " '[2, 5, 1, 1]',\n",
       " '[1, 1, 5, 0]',\n",
       " '[0, 1, 1, 5]',\n",
       " '[2, 3, 2, 2]',\n",
       " '[0, 4, 5, 5]',\n",
       " '[1, 5, 5, 1]',\n",
       " '[0, 1, 0, 3]',\n",
       " '[5, 4, 0, 4]',\n",
       " '[0, 5, 4, 1]',\n",
       " '[1, 2, 4, 0]',\n",
       " '[1, 4, 1, 2]',\n",
       " '[5, 1, 5, 4]',\n",
       " '[0, 5, 3, 1]']"
      ]
     },
     "execution_count": 29,
     "metadata": {},
     "output_type": "execute_result"
    }
   ],
   "source": [
    "secondGen"
   ]
  },
  {
   "cell_type": "code",
   "execution_count": 30,
   "metadata": {},
   "outputs": [],
   "source": [
    "def betterDestring(sortedpop):\n",
    "    i = 0\n",
    "    for i in range(len(sortedpop)):\n",
    "        sortedpop[i] = sortedpop[i].replace(\"[\", \"\")\n",
    "        sortedpop[i] = sortedpop[i].replace(\"]\", \"\")\n",
    "        sortedpop[i] = sortedpop[i].split(\",\")\n",
    "        sortedpop[i] = list(map(int, sortedpop[i]))\n",
    "        i += 1\n",
    "\n",
    "    return sortedpop"
   ]
  },
  {
   "cell_type": "code",
   "execution_count": 31,
   "metadata": {
    "scrolled": true
   },
   "outputs": [
    {
     "data": {
      "text/plain": [
       "[[0, 4, 5, 5],\n",
       " [4, 4, 2, 1],\n",
       " [3, 4, 5, 4],\n",
       " [2, 2, 2, 1],\n",
       " [2, 1, 3, 2],\n",
       " [5, 0, 2, 1],\n",
       " [1, 2, 2, 1],\n",
       " [2, 1, 3, 2],\n",
       " [3, 0, 3, 4],\n",
       " [1, 1, 5, 0],\n",
       " [5, 1, 5, 1],\n",
       " [4, 0, 3, 0],\n",
       " [3, 5, 2, 0],\n",
       " [2, 1, 2, 3],\n",
       " [2, 1, 2, 2],\n",
       " [2, 3, 1, 5],\n",
       " [1, 1, 3, 2],\n",
       " [1, 5, 3, 2],\n",
       " [0, 0, 5, 2],\n",
       " [0, 4, 0, 4],\n",
       " [4, 4, 2, 1],\n",
       " [1, 1, 3, 0],\n",
       " [0, 0, 2, 5],\n",
       " [4, 0, 0, 1],\n",
       " [2, 5, 2, 3],\n",
       " [1, 2, 2, 3],\n",
       " [0, 0, 5, 4],\n",
       " [1, 4, 1, 2],\n",
       " [5, 2, 4, 3],\n",
       " [4, 0, 5, 0],\n",
       " [3, 2, 4, 3],\n",
       " [4, 1, 3, 0],\n",
       " [2, 0, 3, 0],\n",
       " [2, 3, 2, 2],\n",
       " [2, 3, 4, 3],\n",
       " [0, 5, 3, 0],\n",
       " [5, 5, 4, 3],\n",
       " [2, 5, 1, 1],\n",
       " [1, 1, 5, 0],\n",
       " [0, 1, 1, 5],\n",
       " [2, 3, 2, 2],\n",
       " [0, 4, 5, 5],\n",
       " [1, 5, 5, 1],\n",
       " [0, 1, 0, 3],\n",
       " [5, 4, 0, 4],\n",
       " [0, 5, 4, 1],\n",
       " [1, 2, 4, 0],\n",
       " [1, 4, 1, 2],\n",
       " [5, 1, 5, 4],\n",
       " [0, 5, 3, 1]]"
      ]
     },
     "execution_count": 31,
     "metadata": {},
     "output_type": "execute_result"
    }
   ],
   "source": [
    "betterDestring(secondGen)"
   ]
  },
  {
   "cell_type": "code",
   "execution_count": 32,
   "metadata": {
    "scrolled": true
   },
   "outputs": [
    {
     "data": {
      "text/plain": [
       "[[0, 4, 5, 5],\n",
       " [4, 4, 2, 1],\n",
       " [3, 4, 5, 4],\n",
       " [2, 2, 2, 1],\n",
       " [2, 1, 3, 2],\n",
       " [5, 0, 2, 1],\n",
       " [1, 2, 2, 1],\n",
       " [2, 1, 3, 2],\n",
       " [3, 0, 3, 4],\n",
       " [1, 1, 5, 0],\n",
       " [5, 1, 5, 1],\n",
       " [4, 0, 3, 0],\n",
       " [3, 5, 2, 0],\n",
       " [2, 1, 2, 3],\n",
       " [2, 1, 2, 2],\n",
       " [2, 3, 1, 5],\n",
       " [1, 1, 3, 2],\n",
       " [1, 5, 3, 2],\n",
       " [0, 0, 5, 2],\n",
       " [0, 4, 0, 4],\n",
       " [4, 4, 2, 1],\n",
       " [1, 1, 3, 0],\n",
       " [0, 0, 2, 5],\n",
       " [4, 0, 0, 1],\n",
       " [2, 5, 2, 3],\n",
       " [1, 2, 2, 3],\n",
       " [0, 0, 5, 4],\n",
       " [1, 4, 1, 2],\n",
       " [5, 2, 4, 3],\n",
       " [4, 0, 5, 0],\n",
       " [3, 2, 4, 3],\n",
       " [4, 1, 3, 0],\n",
       " [2, 0, 3, 0],\n",
       " [2, 3, 2, 2],\n",
       " [2, 3, 4, 3],\n",
       " [0, 5, 3, 0],\n",
       " [5, 5, 4, 3],\n",
       " [2, 5, 1, 1],\n",
       " [1, 1, 5, 0],\n",
       " [0, 1, 1, 5],\n",
       " [2, 3, 2, 2],\n",
       " [0, 4, 5, 5],\n",
       " [1, 5, 5, 1],\n",
       " [0, 1, 0, 3],\n",
       " [5, 4, 0, 4],\n",
       " [0, 5, 4, 1],\n",
       " [1, 2, 4, 0],\n",
       " [1, 4, 1, 2],\n",
       " [5, 1, 5, 4],\n",
       " [0, 5, 3, 1]]"
      ]
     },
     "execution_count": 32,
     "metadata": {},
     "output_type": "execute_result"
    }
   ],
   "source": [
    "secondGen"
   ]
  },
  {
   "cell_type": "markdown",
   "metadata": {},
   "source": [
    "### Breeding"
   ]
  },
  {
   "cell_type": "code",
   "execution_count": 33,
   "metadata": {
    "collapsed": true
   },
   "outputs": [],
   "source": [
    "import random\n",
    "\n",
    "def createChild(parent1, parent2):\n",
    "    child = []\n",
    "    for i in range(len(parent1)):\n",
    "        if(int(100*random.random()) < 50):\n",
    "            child.append(parent1[i])\n",
    "        else:\n",
    "            child.append(parent2[i])\n",
    "    return child"
   ]
  },
  {
   "cell_type": "code",
   "execution_count": null,
   "metadata": {
    "collapsed": true
   },
   "outputs": [],
   "source": []
  },
  {
   "cell_type": "code",
   "execution_count": 34,
   "metadata": {
    "collapsed": true
   },
   "outputs": [],
   "source": [
    "def createChildren(breeders, number_of_child):\n",
    "    nextPopulation = []\n",
    "    for i in range(int(len(breeders)/2)):\n",
    "        for j in range(number_of_child):\n",
    "            nextPopulation.append(createChild(breeders[i],breeders[len(breeders) -1 -i]))\n",
    "    return nextPopulation"
   ]
  },
  {
   "cell_type": "code",
   "execution_count": 35,
   "metadata": {
    "scrolled": true
   },
   "outputs": [
    {
     "data": {
      "text/plain": [
       "[[0, 5, 3, 5],\n",
       " [0, 5, 5, 5],\n",
       " [4, 4, 5, 1],\n",
       " [5, 4, 2, 4],\n",
       " [3, 4, 1, 2],\n",
       " [3, 4, 1, 4],\n",
       " [2, 2, 4, 0],\n",
       " [2, 2, 2, 1],\n",
       " [0, 1, 4, 1],\n",
       " [0, 5, 4, 2],\n",
       " [5, 0, 0, 1],\n",
       " [5, 0, 0, 1],\n",
       " [0, 1, 2, 1],\n",
       " [0, 2, 2, 1],\n",
       " [1, 5, 3, 2],\n",
       " [1, 5, 3, 2],\n",
       " [0, 4, 5, 5],\n",
       " [3, 4, 5, 4],\n",
       " [1, 3, 5, 0],\n",
       " [2, 1, 2, 2],\n",
       " [5, 1, 5, 1],\n",
       " [5, 1, 1, 5],\n",
       " [4, 1, 3, 0],\n",
       " [4, 0, 5, 0],\n",
       " [3, 5, 2, 0],\n",
       " [2, 5, 2, 0],\n",
       " [2, 5, 2, 3],\n",
       " [5, 5, 4, 3],\n",
       " [2, 1, 2, 2],\n",
       " [2, 1, 2, 0],\n",
       " [2, 3, 1, 5],\n",
       " [2, 3, 4, 3],\n",
       " [2, 3, 2, 2],\n",
       " [1, 3, 2, 2],\n",
       " [2, 5, 3, 0],\n",
       " [1, 5, 3, 0],\n",
       " [4, 1, 3, 0],\n",
       " [4, 0, 5, 0],\n",
       " [0, 2, 0, 3],\n",
       " [0, 2, 0, 4],\n",
       " [4, 4, 2, 1],\n",
       " [4, 0, 2, 1],\n",
       " [1, 1, 4, 3],\n",
       " [1, 1, 4, 0],\n",
       " [1, 0, 1, 5],\n",
       " [1, 4, 2, 5],\n",
       " [0, 0, 0, 4],\n",
       " [4, 0, 5, 4],\n",
       " [2, 2, 2, 3],\n",
       " [1, 5, 2, 3]]"
      ]
     },
     "execution_count": 35,
     "metadata": {},
     "output_type": "execute_result"
    }
   ],
   "source": [
    "createChildren(secondGen, 2)"
   ]
  },
  {
   "cell_type": "markdown",
   "metadata": {},
   "source": [
    "### Mutation"
   ]
  },
  {
   "cell_type": "code",
   "execution_count": 36,
   "metadata": {
    "collapsed": true
   },
   "outputs": [],
   "source": [
    "def mutate(gene):\n",
    "    index_mod = random.randint(0, 3)\n",
    "    gene[index_mod] = random.randint(0,5)\n",
    "    return gene\n"
   ]
  },
  {
   "cell_type": "code",
   "execution_count": 37,
   "metadata": {
    "collapsed": true
   },
   "outputs": [],
   "source": [
    "def mutatePopulation(population, chance_of_mutation):\n",
    "    for i  in range(len(population)):\n",
    "        if random.random()*100 < chance_of_mutation:\n",
    "            population[i] = mutate(population[i])\n",
    "        return population"
   ]
  },
  {
   "cell_type": "code",
   "execution_count": 38,
   "metadata": {
    "scrolled": true
   },
   "outputs": [
    {
     "data": {
      "text/plain": [
       "[[3, 4, 5, 5],\n",
       " [4, 4, 2, 1],\n",
       " [3, 4, 5, 4],\n",
       " [2, 2, 2, 1],\n",
       " [2, 1, 3, 2],\n",
       " [5, 0, 2, 1],\n",
       " [1, 2, 2, 1],\n",
       " [2, 1, 3, 2],\n",
       " [3, 0, 3, 4],\n",
       " [1, 1, 5, 0],\n",
       " [5, 1, 5, 1],\n",
       " [4, 0, 3, 0],\n",
       " [3, 5, 2, 0],\n",
       " [2, 1, 2, 3],\n",
       " [2, 1, 2, 2],\n",
       " [2, 3, 1, 5],\n",
       " [1, 1, 3, 2],\n",
       " [1, 5, 3, 2],\n",
       " [0, 0, 5, 2],\n",
       " [0, 4, 0, 4],\n",
       " [4, 4, 2, 1],\n",
       " [1, 1, 3, 0],\n",
       " [0, 0, 2, 5],\n",
       " [4, 0, 0, 1],\n",
       " [2, 5, 2, 3],\n",
       " [1, 2, 2, 3],\n",
       " [0, 0, 5, 4],\n",
       " [1, 4, 1, 2],\n",
       " [5, 2, 4, 3],\n",
       " [4, 0, 5, 0],\n",
       " [3, 2, 4, 3],\n",
       " [4, 1, 3, 0],\n",
       " [2, 0, 3, 0],\n",
       " [2, 3, 2, 2],\n",
       " [2, 3, 4, 3],\n",
       " [0, 5, 3, 0],\n",
       " [5, 5, 4, 3],\n",
       " [2, 5, 1, 1],\n",
       " [1, 1, 5, 0],\n",
       " [0, 1, 1, 5],\n",
       " [2, 3, 2, 2],\n",
       " [0, 4, 5, 5],\n",
       " [1, 5, 5, 1],\n",
       " [0, 1, 0, 3],\n",
       " [5, 4, 0, 4],\n",
       " [0, 5, 4, 1],\n",
       " [1, 2, 4, 0],\n",
       " [1, 4, 1, 2],\n",
       " [5, 1, 5, 4],\n",
       " [0, 5, 3, 1]]"
      ]
     },
     "execution_count": 38,
     "metadata": {},
     "output_type": "execute_result"
    }
   ],
   "source": [
    "mutatePopulation(secondGen, 100)"
   ]
  },
  {
   "cell_type": "markdown",
   "metadata": {},
   "source": [
    "### Creating multiple generations"
   ]
  },
  {
   "cell_type": "code",
   "execution_count": 39,
   "metadata": {},
   "outputs": [],
   "source": [
    "def nextGeneration(firstGeneration, best_sample, lucky_few, number_of_child, chance_of_mutation):\n",
    "    populationSorted = computePerfPopulation(firstGeneration)\n",
    "    nextBreeders = selectFromPopulation(populationSorted, best_sample, lucky_few)\n",
    "    destringBreeders = betterDestring(nextBreeders)\n",
    "    nextPopulation = createChildren(destringBreeders, number_of_child)\n",
    "    nextGeneration = mutatePopulation(nextPopulation, chance_of_mutation)\n",
    "    \n",
    "    return nextGeneration"
   ]
  },
  {
   "cell_type": "code",
   "execution_count": 40,
   "metadata": {
    "collapsed": true
   },
   "outputs": [],
   "source": [
    "def multipleGeneration(number_of_generation, popSize, best_sample, lucky_few, number_of_child, chance_of_mutation):\n",
    "    historic = []\n",
    "    historic.append(generatePop(popSize))\n",
    "    for i in range (number_of_generation):\n",
    "        historic.append(nextGeneration(historic[i], best_sample, lucky_few, number_of_child, chance_of_mutation))\n",
    "    return historic\n",
    "\n"
   ]
  },
  {
   "cell_type": "code",
   "execution_count": null,
   "metadata": {
    "collapsed": true
   },
   "outputs": [],
   "source": []
  },
  {
   "cell_type": "code",
   "execution_count": 52,
   "metadata": {},
   "outputs": [
    {
     "name": "stdout",
     "output_type": "stream",
     "text": [
      "[[4, 0, 4, 4], [1, 4, 1, 0], [4, 2, 5, 2], [0, 2, 3, 5], [0, 1, 0, 2], [4, 5, 3, 5], [1, 4, 5, 5], [1, 3, 4, 2], [0, 1, 5, 3], [4, 4, 5, 5], [1, 1, 0, 1], [2, 1, 2, 3], [1, 4, 3, 1], [3, 0, 3, 4], [2, 0, 4, 0], [1, 0, 1, 2], [2, 5, 0, 3], [1, 0, 1, 2], [0, 4, 2, 5], [5, 4, 5, 3], [4, 5, 0, 1], [2, 5, 5, 3], [1, 1, 3, 5], [0, 1, 0, 4], [5, 4, 1, 0], [3, 5, 5, 5], [2, 2, 5, 2], [4, 5, 2, 2], [2, 4, 4, 2], [4, 0, 1, 4], [3, 5, 0, 2], [3, 2, 0, 5], [4, 0, 2, 5], [4, 4, 5, 0], [1, 0, 5, 2], [0, 4, 0, 3], [1, 0, 3, 1], [0, 0, 0, 1], [4, 5, 1, 1], [2, 2, 1, 3], [2, 2, 0, 5], [5, 2, 1, 0], [4, 5, 1, 2], [0, 2, 2, 5], [2, 0, 2, 0], [5, 3, 2, 4], [0, 3, 0, 1], [0, 5, 0, 1], [1, 3, 3, 1], [2, 5, 1, 0], [3, 1, 3, 4], [3, 1, 1, 0], [2, 4, 1, 4], [2, 1, 0, 3], [0, 1, 5, 4], [4, 1, 3, 5], [4, 2, 5, 0], [0, 1, 4, 3], [4, 0, 4, 5], [2, 3, 3, 0], [1, 5, 3, 4], [5, 3, 2, 5], [4, 4, 5, 4], [2, 0, 4, 2], [2, 0, 3, 0], [1, 2, 1, 4], [5, 0, 2, 3], [0, 1, 1, 4], [4, 5, 3, 4], [3, 0, 2, 2], [0, 3, 4, 0], [2, 0, 5, 2], [2, 4, 1, 2], [4, 2, 1, 2], [4, 1, 0, 0], [5, 5, 4, 2], [0, 1, 2, 4], [0, 3, 2, 5], [1, 5, 5, 5], [0, 1, 2, 4], [2, 4, 5, 1], [4, 2, 0, 2], [3, 3, 4, 2], [3, 4, 2, 2], [4, 5, 4, 3], [3, 3, 3, 2], [4, 5, 1, 0], [3, 5, 2, 5], [3, 4, 0, 2], [0, 0, 0, 0], [5, 0, 0, 3], [4, 4, 5, 4], [4, 2, 1, 2], [1, 0, 4, 0], [3, 3, 1, 5], [4, 0, 2, 5], [1, 5, 3, 4], [5, 2, 0, 0], [0, 3, 0, 3], [4, 2, 4, 3]]\n"
     ]
    }
   ],
   "source": [
    "lol = multipleGeneration(50000, 100, 30, 20, 4, 1)"
   ]
  },
  {
   "cell_type": "code",
   "execution_count": 49,
   "metadata": {},
   "outputs": [],
   "source": [
    "lol = nextGeneration(secondGen, 30,20, 4, 1)"
   ]
  },
  {
   "cell_type": "code",
   "execution_count": 43,
   "metadata": {},
   "outputs": [
    {
     "name": "stdout",
     "output_type": "stream",
     "text": [
      "100\n"
     ]
    }
   ],
   "source": [
    "print(len(lol))"
   ]
  },
  {
   "cell_type": "markdown",
   "metadata": {},
   "source": [
    "## Analysis"
   ]
  },
  {
   "cell_type": "code",
   "execution_count": 44,
   "metadata": {
    "collapsed": true
   },
   "outputs": [],
   "source": [
    "def getBestIndividualFromPopulation(population):\n",
    "    return(computePerfPopulation(population)[0])"
   ]
  },
  {
   "cell_type": "code",
   "execution_count": 54,
   "metadata": {
    "collapsed": true
   },
   "outputs": [],
   "source": [
    "def storeBestHistoric(historic):\n",
    "    historicBest = []\n",
    "    for population in historic:\n",
    "        historicBest.append(getBestIndividualFromPopulation(population))"
   ]
  },
  {
   "cell_type": "code",
   "execution_count": null,
   "metadata": {
    "collapsed": true
   },
   "outputs": [],
   "source": []
  },
  {
   "cell_type": "code",
   "execution_count": 53,
   "metadata": {},
   "outputs": [
    {
     "data": {
      "text/plain": [
       "('[1, 1, 5, 0]', 7794)"
      ]
     },
     "execution_count": 53,
     "metadata": {},
     "output_type": "execute_result"
    }
   ],
   "source": [
    "getBestIndividualFromPopulation(lol)"
   ]
  },
  {
   "cell_type": "code",
   "execution_count": null,
   "metadata": {
    "collapsed": true
   },
   "outputs": [],
   "source": []
  }
 ],
 "metadata": {
  "kernelspec": {
   "display_name": "Python 3",
   "language": "python",
   "name": "python3"
  },
  "language_info": {
   "codemirror_mode": {
    "name": "ipython",
    "version": 3
   },
   "file_extension": ".py",
   "mimetype": "text/x-python",
   "name": "python",
   "nbconvert_exporter": "python",
   "pygments_lexer": "ipython3",
   "version": "3.6.3"
  }
 },
 "nbformat": 4,
 "nbformat_minor": 2
}
